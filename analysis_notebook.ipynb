{
 "cells": [
  {
   "cell_type": "markdown",
   "metadata": {},
   "source": [
    "# Análise exploratória sobre as eleições de 2022"
   ]
  },
  {
   "cell_type": "code",
   "execution_count": 70,
   "metadata": {},
   "outputs": [],
   "source": [
    "import pandas as pd\n",
    "import os\n",
    "import matplotlib.pyplot as plt\n",
    "import plotly.express as px"
   ]
  },
  {
   "cell_type": "markdown",
   "metadata": {},
   "source": [
    "**Dados que serão analisados**\n",
    "\n",
    "Inicialmente vamos explorar os dados de todos candidatos à deputado federal. Vamos extrair informações dos arquivos que o TSE disponibiliza no [site](https://dadosabertos.tse.jus.br/dataset/). Outros links úteis:  \n",
    "[Divulgação de candidaturas e contas eleitorais](https://divulgacandcontas.tse.jus.br/divulga/#/)  \n",
    "[Conjuntos de dados sobre as eleições](https://sig.tse.jus.br/ords/dwapr/r/seai/sig-eleicao-arquivo/conjuntos-de-dados)\n",
    "\n",
    "Abaixo o código para fazer a leitura e construção dos Data Frames necessários."
   ]
  },
  {
   "cell_type": "code",
   "execution_count": 71,
   "metadata": {},
   "outputs": [],
   "source": [
    "CONSULT = \"/consulta_cand_2022/consulta_cand_2022_\"\n",
    "ASSETS = \"/bem_candidato_2022/bem_candidato_2022_\"\n",
    "VOTING = \"/votacao_candidato_munzona_2022/votacao_candidato_munzona_2022_\"\n",
    "EXPENSE_PAID = \"/prestacao_de_contas_eleitorais_candidatos_2022/despesas_pagas_candidatos_2022_\"\n",
    "CONTRACTED_EXPENSE = \"/prestacao_de_contas_eleitorais_candidatos_2022/despesas_contratadas_candidatos_2022_\"\n",
    "STATES = [\"AC\", \"AL\", \"AP\", \"AM\", \"BA\", \"CE\", \"DF\", \"ES\", \"GO\",\n",
    "          \"MA\", \"MT\", \"MS\", \"MG\", \"PA\", \"PB\", \"PR\", \"PE\", \"PI\",\n",
    "          \"RJ\", \"RN\", \"RS\", \"RO\", \"RR\", \"SC\", \"SP\", \"SE\", \"TO\"]\n",
    "\n",
    "df_candidates = pd.DataFrame()\n",
    "df_cand_assets = pd.DataFrame()\n",
    "df_cand_voting = pd.DataFrame()\n",
    "df_cand_revenues = pd.DataFrame()\n",
    "df_cand_expense_paid = pd.DataFrame()\n",
    "df_cand_contracted_expense = pd.DataFrame()\n",
    "voting_cols = [\"SG_UF\", \"SQ_CANDIDATO\", \"NM_CANDIDATO\", \"SQ_COLIGACAO\",\n",
    "               \"QT_VOTOS_NOMINAIS_VALIDOS\", \"SQ_COLIGACAO\", \"NM_COLIGACAO\", \n",
    "               \"DS_SIT_TOT_TURNO\"]\n",
    "expense_paid_cols = [\"SG_UF\", \"SQ_PRESTADOR_CONTAS\", \"SQ_DESPESA\", \"VR_PAGTO_DESPESA\"]\n",
    "contracted_expense_cols = [\"SQ_PRESTADOR_CONTAS\", \"SG_UF\", \"DS_CARGO\", \"SQ_CANDIDATO\", \n",
    "                           \"NR_CPF_CNPJ_FORNECEDOR\", \"NM_FORNECEDOR\", \"SQ_DESPESA\",\n",
    "                           \"VR_DESPESA_CONTRATADA\"]\n",
    "\n",
    "for sg in STATES:\n",
    "    df_cand_temp = pd.read_csv(os.getcwd() +\n",
    "                               f\"/db{CONSULT + sg}.csv\",\n",
    "                               sep=\";\", encoding=\"iso-8859-1\")\n",
    "\n",
    "    df_assets_temp = pd.read_csv(os.getcwd() +\n",
    "                                f\"/db{ASSETS + sg}.csv\",\n",
    "                                sep=\";\", encoding=\"iso-8859-1\")\n",
    "\n",
    "    df_voting_temp = pd.read_csv(os.getcwd() + \n",
    "                                f\"/db{VOTING + sg}.csv\",\n",
    "                                sep=\";\", encoding=\"iso-8859-1\",\n",
    "                                usecols=voting_cols)\n",
    "\n",
    "    df_cand_expense_paid_temp = pd.read_csv(os.getcwd() + \n",
    "                                            f\"/db{EXPENSE_PAID + sg}.csv\",\n",
    "                                            sep=\";\", encoding=\"iso-8859-1\",\n",
    "                                            usecols=expense_paid_cols)\n",
    "    \n",
    "    df_cand_contracted_expense_temp = pd.read_csv(os.getcwd() + \n",
    "                                                  f\"/db{CONTRACTED_EXPENSE + sg}.csv\",\n",
    "                                                  sep=\";\", encoding=\"iso-8859-1\",\n",
    "                                                  usecols=contracted_expense_cols)\n",
    "    \n",
    "    df_candidates = pd.concat([df_candidates, df_cand_temp])\n",
    "    df_cand_assets = pd.concat([df_cand_assets, df_assets_temp])\n",
    "    df_cand_voting = pd.concat([df_cand_voting, df_voting_temp])\n",
    "    df_cand_expense_paid = pd.concat([df_cand_expense_paid, df_cand_expense_paid_temp])\n",
    "    df_cand_contracted_expense = pd.concat([df_cand_contracted_expense, df_cand_contracted_expense_temp])\n",
    "\n",
    "df_cand_revenues = pd.read_csv(os.getcwd() +\n",
    "                              f\"/db/receitas_candidatos.csv\",\n",
    "                              sep=\",\", encoding=\"utf-8\")\n"
   ]
  },
  {
   "cell_type": "code",
   "execution_count": 72,
   "metadata": {},
   "outputs": [
    {
     "data": {
      "text/html": [
       "<div>\n",
       "<style scoped>\n",
       "    .dataframe tbody tr th:only-of-type {\n",
       "        vertical-align: middle;\n",
       "    }\n",
       "\n",
       "    .dataframe tbody tr th {\n",
       "        vertical-align: top;\n",
       "    }\n",
       "\n",
       "    .dataframe thead th {\n",
       "        text-align: right;\n",
       "    }\n",
       "</style>\n",
       "<table border=\"1\" class=\"dataframe\">\n",
       "  <thead>\n",
       "    <tr style=\"text-align: right;\">\n",
       "      <th></th>\n",
       "      <th>DT_GERACAO</th>\n",
       "      <th>HH_GERACAO</th>\n",
       "      <th>ANO_ELEICAO</th>\n",
       "      <th>CD_TIPO_ELEICAO</th>\n",
       "      <th>NM_TIPO_ELEICAO</th>\n",
       "      <th>NR_TURNO</th>\n",
       "      <th>CD_ELEICAO</th>\n",
       "      <th>DS_ELEICAO</th>\n",
       "      <th>DT_ELEICAO</th>\n",
       "      <th>TP_ABRANGENCIA</th>\n",
       "      <th>...</th>\n",
       "      <th>NR_PROCESSO</th>\n",
       "      <th>CD_SITUACAO_CANDIDATO_PLEITO</th>\n",
       "      <th>DS_SITUACAO_CANDIDATO_PLEITO</th>\n",
       "      <th>CD_SITUACAO_CANDIDATO_URNA</th>\n",
       "      <th>DS_SITUACAO_CANDIDATO_URNA</th>\n",
       "      <th>ST_CANDIDATO_INSERIDO_URNA</th>\n",
       "      <th>NM_TIPO_DESTINACAO_VOTOS</th>\n",
       "      <th>CD_SITUACAO_CANDIDATO_TOT</th>\n",
       "      <th>DS_SITUACAO_CANDIDATO_TOT</th>\n",
       "      <th>ST_PREST_CONTAS</th>\n",
       "    </tr>\n",
       "  </thead>\n",
       "  <tbody>\n",
       "    <tr>\n",
       "      <th>0</th>\n",
       "      <td>09/12/2022</td>\n",
       "      <td>18:37:33</td>\n",
       "      <td>2022</td>\n",
       "      <td>2</td>\n",
       "      <td>ELEIÇÃO ORDINÁRIA</td>\n",
       "      <td>1</td>\n",
       "      <td>546</td>\n",
       "      <td>Eleições Gerais Estaduais 2022</td>\n",
       "      <td>02/10/2022</td>\n",
       "      <td>ESTADUAL</td>\n",
       "      <td>...</td>\n",
       "      <td>6003641820226010000</td>\n",
       "      <td>2</td>\n",
       "      <td>DEFERIDO</td>\n",
       "      <td>2</td>\n",
       "      <td>DEFERIDO</td>\n",
       "      <td>SIM</td>\n",
       "      <td>Válido</td>\n",
       "      <td>2</td>\n",
       "      <td>Deferido</td>\n",
       "      <td>S</td>\n",
       "    </tr>\n",
       "    <tr>\n",
       "      <th>1</th>\n",
       "      <td>09/12/2022</td>\n",
       "      <td>18:37:33</td>\n",
       "      <td>2022</td>\n",
       "      <td>2</td>\n",
       "      <td>ELEIÇÃO ORDINÁRIA</td>\n",
       "      <td>1</td>\n",
       "      <td>546</td>\n",
       "      <td>Eleições Gerais Estaduais 2022</td>\n",
       "      <td>02/10/2022</td>\n",
       "      <td>ESTADUAL</td>\n",
       "      <td>...</td>\n",
       "      <td>6005495620226010000</td>\n",
       "      <td>2</td>\n",
       "      <td>DEFERIDO</td>\n",
       "      <td>2</td>\n",
       "      <td>DEFERIDO</td>\n",
       "      <td>SIM</td>\n",
       "      <td>Válido</td>\n",
       "      <td>2</td>\n",
       "      <td>Deferido</td>\n",
       "      <td>S</td>\n",
       "    </tr>\n",
       "    <tr>\n",
       "      <th>2</th>\n",
       "      <td>09/12/2022</td>\n",
       "      <td>18:37:33</td>\n",
       "      <td>2022</td>\n",
       "      <td>2</td>\n",
       "      <td>ELEIÇÃO ORDINÁRIA</td>\n",
       "      <td>1</td>\n",
       "      <td>546</td>\n",
       "      <td>Eleições Gerais Estaduais 2022</td>\n",
       "      <td>02/10/2022</td>\n",
       "      <td>ESTADUAL</td>\n",
       "      <td>...</td>\n",
       "      <td>6007609220226010000</td>\n",
       "      <td>2</td>\n",
       "      <td>DEFERIDO</td>\n",
       "      <td>2</td>\n",
       "      <td>DEFERIDO</td>\n",
       "      <td>SIM</td>\n",
       "      <td>Válido</td>\n",
       "      <td>2</td>\n",
       "      <td>Deferido</td>\n",
       "      <td>S</td>\n",
       "    </tr>\n",
       "    <tr>\n",
       "      <th>3</th>\n",
       "      <td>09/12/2022</td>\n",
       "      <td>18:37:33</td>\n",
       "      <td>2022</td>\n",
       "      <td>2</td>\n",
       "      <td>ELEIÇÃO ORDINÁRIA</td>\n",
       "      <td>1</td>\n",
       "      <td>546</td>\n",
       "      <td>Eleições Gerais Estaduais 2022</td>\n",
       "      <td>02/10/2022</td>\n",
       "      <td>ESTADUAL</td>\n",
       "      <td>...</td>\n",
       "      <td>6003729220226010000</td>\n",
       "      <td>2</td>\n",
       "      <td>DEFERIDO</td>\n",
       "      <td>2</td>\n",
       "      <td>DEFERIDO</td>\n",
       "      <td>SIM</td>\n",
       "      <td>Válido</td>\n",
       "      <td>2</td>\n",
       "      <td>Deferido</td>\n",
       "      <td>S</td>\n",
       "    </tr>\n",
       "    <tr>\n",
       "      <th>4</th>\n",
       "      <td>09/12/2022</td>\n",
       "      <td>18:37:33</td>\n",
       "      <td>2022</td>\n",
       "      <td>2</td>\n",
       "      <td>ELEIÇÃO ORDINÁRIA</td>\n",
       "      <td>1</td>\n",
       "      <td>546</td>\n",
       "      <td>Eleições Gerais Estaduais 2022</td>\n",
       "      <td>02/10/2022</td>\n",
       "      <td>ESTADUAL</td>\n",
       "      <td>...</td>\n",
       "      <td>6003581120226010000</td>\n",
       "      <td>2</td>\n",
       "      <td>DEFERIDO</td>\n",
       "      <td>2</td>\n",
       "      <td>DEFERIDO</td>\n",
       "      <td>SIM</td>\n",
       "      <td>Válido</td>\n",
       "      <td>2</td>\n",
       "      <td>Deferido</td>\n",
       "      <td>S</td>\n",
       "    </tr>\n",
       "  </tbody>\n",
       "</table>\n",
       "<p>5 rows × 71 columns</p>\n",
       "</div>"
      ],
      "text/plain": [
       "   DT_GERACAO HH_GERACAO  ANO_ELEICAO  CD_TIPO_ELEICAO    NM_TIPO_ELEICAO  \\\n",
       "0  09/12/2022   18:37:33         2022                2  ELEIÇÃO ORDINÁRIA   \n",
       "1  09/12/2022   18:37:33         2022                2  ELEIÇÃO ORDINÁRIA   \n",
       "2  09/12/2022   18:37:33         2022                2  ELEIÇÃO ORDINÁRIA   \n",
       "3  09/12/2022   18:37:33         2022                2  ELEIÇÃO ORDINÁRIA   \n",
       "4  09/12/2022   18:37:33         2022                2  ELEIÇÃO ORDINÁRIA   \n",
       "\n",
       "   NR_TURNO  CD_ELEICAO                      DS_ELEICAO  DT_ELEICAO  \\\n",
       "0         1         546  Eleições Gerais Estaduais 2022  02/10/2022   \n",
       "1         1         546  Eleições Gerais Estaduais 2022  02/10/2022   \n",
       "2         1         546  Eleições Gerais Estaduais 2022  02/10/2022   \n",
       "3         1         546  Eleições Gerais Estaduais 2022  02/10/2022   \n",
       "4         1         546  Eleições Gerais Estaduais 2022  02/10/2022   \n",
       "\n",
       "  TP_ABRANGENCIA  ...          NR_PROCESSO CD_SITUACAO_CANDIDATO_PLEITO  \\\n",
       "0       ESTADUAL  ...  6003641820226010000                            2   \n",
       "1       ESTADUAL  ...  6005495620226010000                            2   \n",
       "2       ESTADUAL  ...  6007609220226010000                            2   \n",
       "3       ESTADUAL  ...  6003729220226010000                            2   \n",
       "4       ESTADUAL  ...  6003581120226010000                            2   \n",
       "\n",
       "  DS_SITUACAO_CANDIDATO_PLEITO  CD_SITUACAO_CANDIDATO_URNA  \\\n",
       "0                     DEFERIDO                           2   \n",
       "1                     DEFERIDO                           2   \n",
       "2                     DEFERIDO                           2   \n",
       "3                     DEFERIDO                           2   \n",
       "4                     DEFERIDO                           2   \n",
       "\n",
       "  DS_SITUACAO_CANDIDATO_URNA  ST_CANDIDATO_INSERIDO_URNA  \\\n",
       "0                   DEFERIDO                         SIM   \n",
       "1                   DEFERIDO                         SIM   \n",
       "2                   DEFERIDO                         SIM   \n",
       "3                   DEFERIDO                         SIM   \n",
       "4                   DEFERIDO                         SIM   \n",
       "\n",
       "   NM_TIPO_DESTINACAO_VOTOS CD_SITUACAO_CANDIDATO_TOT  \\\n",
       "0                    Válido                         2   \n",
       "1                    Válido                         2   \n",
       "2                    Válido                         2   \n",
       "3                    Válido                         2   \n",
       "4                    Válido                         2   \n",
       "\n",
       "  DS_SITUACAO_CANDIDATO_TOT ST_PREST_CONTAS  \n",
       "0                  Deferido               S  \n",
       "1                  Deferido               S  \n",
       "2                  Deferido               S  \n",
       "3                  Deferido               S  \n",
       "4                  Deferido               S  \n",
       "\n",
       "[5 rows x 71 columns]"
      ]
     },
     "metadata": {},
     "output_type": "display_data"
    },
    {
     "data": {
      "text/plain": [
       "Index(['DT_GERACAO', 'HH_GERACAO', 'ANO_ELEICAO', 'CD_TIPO_ELEICAO',\n",
       "       'NM_TIPO_ELEICAO', 'NR_TURNO', 'CD_ELEICAO', 'DS_ELEICAO', 'DT_ELEICAO',\n",
       "       'TP_ABRANGENCIA', 'SG_UF', 'SG_UE', 'NM_UE', 'CD_CARGO', 'DS_CARGO',\n",
       "       'SQ_CANDIDATO', 'NR_CANDIDATO', 'NM_CANDIDATO', 'NM_URNA_CANDIDATO',\n",
       "       'NM_SOCIAL_CANDIDATO', 'NR_CPF_CANDIDATO', 'NM_EMAIL',\n",
       "       'CD_SITUACAO_CANDIDATURA', 'DS_SITUACAO_CANDIDATURA',\n",
       "       'CD_DETALHE_SITUACAO_CAND', 'DS_DETALHE_SITUACAO_CAND', 'TP_AGREMIACAO',\n",
       "       'NR_PARTIDO', 'SG_PARTIDO', 'NM_PARTIDO', 'NR_FEDERACAO',\n",
       "       'NM_FEDERACAO', 'SG_FEDERACAO', 'DS_COMPOSICAO_FEDERACAO',\n",
       "       'SQ_COLIGACAO', 'NM_COLIGACAO', 'DS_COMPOSICAO_COLIGACAO',\n",
       "       'CD_NACIONALIDADE', 'DS_NACIONALIDADE', 'SG_UF_NASCIMENTO',\n",
       "       'CD_MUNICIPIO_NASCIMENTO', 'NM_MUNICIPIO_NASCIMENTO', 'DT_NASCIMENTO',\n",
       "       'NR_IDADE_DATA_POSSE', 'NR_TITULO_ELEITORAL_CANDIDATO', 'CD_GENERO',\n",
       "       'DS_GENERO', 'CD_GRAU_INSTRUCAO', 'DS_GRAU_INSTRUCAO',\n",
       "       'CD_ESTADO_CIVIL', 'DS_ESTADO_CIVIL', 'CD_COR_RACA', 'DS_COR_RACA',\n",
       "       'CD_OCUPACAO', 'DS_OCUPACAO', 'VR_DESPESA_MAX_CAMPANHA',\n",
       "       'CD_SIT_TOT_TURNO', 'DS_SIT_TOT_TURNO', 'ST_REELEICAO',\n",
       "       'ST_DECLARAR_BENS', 'NR_PROTOCOLO_CANDIDATURA', 'NR_PROCESSO',\n",
       "       'CD_SITUACAO_CANDIDATO_PLEITO', 'DS_SITUACAO_CANDIDATO_PLEITO',\n",
       "       'CD_SITUACAO_CANDIDATO_URNA', 'DS_SITUACAO_CANDIDATO_URNA',\n",
       "       'ST_CANDIDATO_INSERIDO_URNA', 'NM_TIPO_DESTINACAO_VOTOS',\n",
       "       'CD_SITUACAO_CANDIDATO_TOT', 'DS_SITUACAO_CANDIDATO_TOT',\n",
       "       'ST_PREST_CONTAS'],\n",
       "      dtype='object')"
      ]
     },
     "metadata": {},
     "output_type": "display_data"
    },
    {
     "data": {
      "text/plain": [
       "(29284, 71)"
      ]
     },
     "metadata": {},
     "output_type": "display_data"
    }
   ],
   "source": [
    "display(df_candidates.head())\n",
    "display(df_candidates.columns)\n",
    "display(df_candidates.shape)"
   ]
  },
  {
   "cell_type": "code",
   "execution_count": 73,
   "metadata": {},
   "outputs": [
    {
     "data": {
      "text/html": [
       "<div>\n",
       "<style scoped>\n",
       "    .dataframe tbody tr th:only-of-type {\n",
       "        vertical-align: middle;\n",
       "    }\n",
       "\n",
       "    .dataframe tbody tr th {\n",
       "        vertical-align: top;\n",
       "    }\n",
       "\n",
       "    .dataframe thead th {\n",
       "        text-align: right;\n",
       "    }\n",
       "</style>\n",
       "<table border=\"1\" class=\"dataframe\">\n",
       "  <thead>\n",
       "    <tr style=\"text-align: right;\">\n",
       "      <th></th>\n",
       "      <th>DT_GERACAO</th>\n",
       "      <th>HH_GERACAO</th>\n",
       "      <th>ANO_ELEICAO</th>\n",
       "      <th>CD_TIPO_ELEICAO</th>\n",
       "      <th>NM_TIPO_ELEICAO</th>\n",
       "      <th>CD_ELEICAO</th>\n",
       "      <th>DS_ELEICAO</th>\n",
       "      <th>DT_ELEICAO</th>\n",
       "      <th>SG_UF</th>\n",
       "      <th>SG_UE</th>\n",
       "      <th>NM_UE</th>\n",
       "      <th>SQ_CANDIDATO</th>\n",
       "      <th>NR_ORDEM_CANDIDATO</th>\n",
       "      <th>CD_TIPO_BEM_CANDIDATO</th>\n",
       "      <th>DS_TIPO_BEM_CANDIDATO</th>\n",
       "      <th>DS_BEM_CANDIDATO</th>\n",
       "      <th>VR_BEM_CANDIDATO</th>\n",
       "      <th>DT_ULTIMA_ATUALIZACAO</th>\n",
       "      <th>HH_ULTIMA_ATUALIZACAO</th>\n",
       "    </tr>\n",
       "  </thead>\n",
       "  <tbody>\n",
       "    <tr>\n",
       "      <th>0</th>\n",
       "      <td>09/12/2022</td>\n",
       "      <td>18:37:14</td>\n",
       "      <td>2022</td>\n",
       "      <td>2</td>\n",
       "      <td>Eleição Ordinária</td>\n",
       "      <td>546</td>\n",
       "      <td>Eleições Gerais Estaduais 2022</td>\n",
       "      <td>02/10/2022</td>\n",
       "      <td>AC</td>\n",
       "      <td>AC</td>\n",
       "      <td>ACRE</td>\n",
       "      <td>10001595335</td>\n",
       "      <td>1</td>\n",
       "      <td>21</td>\n",
       "      <td>Veículo automotor terrestre: caminhão, automóv...</td>\n",
       "      <td>Carro marca Toyota modelo etios</td>\n",
       "      <td>40000,00</td>\n",
       "      <td>02/10/2022</td>\n",
       "      <td>23:21:28</td>\n",
       "    </tr>\n",
       "    <tr>\n",
       "      <th>1</th>\n",
       "      <td>09/12/2022</td>\n",
       "      <td>18:37:14</td>\n",
       "      <td>2022</td>\n",
       "      <td>2</td>\n",
       "      <td>Eleição Ordinária</td>\n",
       "      <td>546</td>\n",
       "      <td>Eleições Gerais Estaduais 2022</td>\n",
       "      <td>02/10/2022</td>\n",
       "      <td>AC</td>\n",
       "      <td>AC</td>\n",
       "      <td>ACRE</td>\n",
       "      <td>10001595335</td>\n",
       "      <td>2</td>\n",
       "      <td>21</td>\n",
       "      <td>Veículo automotor terrestre: caminhão, automóv...</td>\n",
       "      <td>Motocicleta marca Honda modelo PCX</td>\n",
       "      <td>20000,00</td>\n",
       "      <td>02/10/2022</td>\n",
       "      <td>23:21:28</td>\n",
       "    </tr>\n",
       "    <tr>\n",
       "      <th>2</th>\n",
       "      <td>09/12/2022</td>\n",
       "      <td>18:37:14</td>\n",
       "      <td>2022</td>\n",
       "      <td>2</td>\n",
       "      <td>Eleição Ordinária</td>\n",
       "      <td>546</td>\n",
       "      <td>Eleições Gerais Estaduais 2022</td>\n",
       "      <td>02/10/2022</td>\n",
       "      <td>AC</td>\n",
       "      <td>AC</td>\n",
       "      <td>ACRE</td>\n",
       "      <td>10001601556</td>\n",
       "      <td>15</td>\n",
       "      <td>21</td>\n",
       "      <td>Veículo automotor terrestre: caminhão, automóv...</td>\n",
       "      <td>TOYOTA LAND CRUISER PR 2005/2006</td>\n",
       "      <td>77000,00</td>\n",
       "      <td>02/10/2022</td>\n",
       "      <td>23:21:28</td>\n",
       "    </tr>\n",
       "    <tr>\n",
       "      <th>3</th>\n",
       "      <td>09/12/2022</td>\n",
       "      <td>18:37:14</td>\n",
       "      <td>2022</td>\n",
       "      <td>2</td>\n",
       "      <td>Eleição Ordinária</td>\n",
       "      <td>546</td>\n",
       "      <td>Eleições Gerais Estaduais 2022</td>\n",
       "      <td>02/10/2022</td>\n",
       "      <td>AC</td>\n",
       "      <td>AC</td>\n",
       "      <td>ACRE</td>\n",
       "      <td>10001595336</td>\n",
       "      <td>1</td>\n",
       "      <td>12</td>\n",
       "      <td>Casa</td>\n",
       "      <td>uma casa em alvenaria</td>\n",
       "      <td>400000,00</td>\n",
       "      <td>02/10/2022</td>\n",
       "      <td>23:21:28</td>\n",
       "    </tr>\n",
       "    <tr>\n",
       "      <th>4</th>\n",
       "      <td>09/12/2022</td>\n",
       "      <td>18:37:14</td>\n",
       "      <td>2022</td>\n",
       "      <td>2</td>\n",
       "      <td>Eleição Ordinária</td>\n",
       "      <td>546</td>\n",
       "      <td>Eleições Gerais Estaduais 2022</td>\n",
       "      <td>02/10/2022</td>\n",
       "      <td>AC</td>\n",
       "      <td>AC</td>\n",
       "      <td>ACRE</td>\n",
       "      <td>10001595340</td>\n",
       "      <td>2</td>\n",
       "      <td>21</td>\n",
       "      <td>Veículo automotor terrestre: caminhão, automóv...</td>\n",
       "      <td>Motocicleta Honda CB 300 ano 2011</td>\n",
       "      <td>10000,00</td>\n",
       "      <td>02/10/2022</td>\n",
       "      <td>23:21:28</td>\n",
       "    </tr>\n",
       "  </tbody>\n",
       "</table>\n",
       "</div>"
      ],
      "text/plain": [
       "   DT_GERACAO HH_GERACAO  ANO_ELEICAO  CD_TIPO_ELEICAO    NM_TIPO_ELEICAO  \\\n",
       "0  09/12/2022   18:37:14         2022                2  Eleição Ordinária   \n",
       "1  09/12/2022   18:37:14         2022                2  Eleição Ordinária   \n",
       "2  09/12/2022   18:37:14         2022                2  Eleição Ordinária   \n",
       "3  09/12/2022   18:37:14         2022                2  Eleição Ordinária   \n",
       "4  09/12/2022   18:37:14         2022                2  Eleição Ordinária   \n",
       "\n",
       "   CD_ELEICAO                      DS_ELEICAO  DT_ELEICAO SG_UF SG_UE NM_UE  \\\n",
       "0         546  Eleições Gerais Estaduais 2022  02/10/2022    AC    AC  ACRE   \n",
       "1         546  Eleições Gerais Estaduais 2022  02/10/2022    AC    AC  ACRE   \n",
       "2         546  Eleições Gerais Estaduais 2022  02/10/2022    AC    AC  ACRE   \n",
       "3         546  Eleições Gerais Estaduais 2022  02/10/2022    AC    AC  ACRE   \n",
       "4         546  Eleições Gerais Estaduais 2022  02/10/2022    AC    AC  ACRE   \n",
       "\n",
       "   SQ_CANDIDATO  NR_ORDEM_CANDIDATO  CD_TIPO_BEM_CANDIDATO  \\\n",
       "0   10001595335                   1                     21   \n",
       "1   10001595335                   2                     21   \n",
       "2   10001601556                  15                     21   \n",
       "3   10001595336                   1                     12   \n",
       "4   10001595340                   2                     21   \n",
       "\n",
       "                               DS_TIPO_BEM_CANDIDATO  \\\n",
       "0  Veículo automotor terrestre: caminhão, automóv...   \n",
       "1  Veículo automotor terrestre: caminhão, automóv...   \n",
       "2  Veículo automotor terrestre: caminhão, automóv...   \n",
       "3                                               Casa   \n",
       "4  Veículo automotor terrestre: caminhão, automóv...   \n",
       "\n",
       "                     DS_BEM_CANDIDATO VR_BEM_CANDIDATO DT_ULTIMA_ATUALIZACAO  \\\n",
       "0     Carro marca Toyota modelo etios         40000,00            02/10/2022   \n",
       "1  Motocicleta marca Honda modelo PCX         20000,00            02/10/2022   \n",
       "2    TOYOTA LAND CRUISER PR 2005/2006         77000,00            02/10/2022   \n",
       "3              uma casa em alvenaria         400000,00            02/10/2022   \n",
       "4   Motocicleta Honda CB 300 ano 2011         10000,00            02/10/2022   \n",
       "\n",
       "  HH_ULTIMA_ATUALIZACAO  \n",
       "0              23:21:28  \n",
       "1              23:21:28  \n",
       "2              23:21:28  \n",
       "3              23:21:28  \n",
       "4              23:21:28  "
      ]
     },
     "metadata": {},
     "output_type": "display_data"
    },
    {
     "data": {
      "text/plain": [
       "Index(['DT_GERACAO', 'HH_GERACAO', 'ANO_ELEICAO', 'CD_TIPO_ELEICAO',\n",
       "       'NM_TIPO_ELEICAO', 'CD_ELEICAO', 'DS_ELEICAO', 'DT_ELEICAO', 'SG_UF',\n",
       "       'SG_UE', 'NM_UE', 'SQ_CANDIDATO', 'NR_ORDEM_CANDIDATO',\n",
       "       'CD_TIPO_BEM_CANDIDATO', 'DS_TIPO_BEM_CANDIDATO', 'DS_BEM_CANDIDATO',\n",
       "       'VR_BEM_CANDIDATO', 'DT_ULTIMA_ATUALIZACAO', 'HH_ULTIMA_ATUALIZACAO'],\n",
       "      dtype='object')"
      ]
     },
     "metadata": {},
     "output_type": "display_data"
    },
    {
     "data": {
      "text/plain": [
       "(92390, 19)"
      ]
     },
     "metadata": {},
     "output_type": "display_data"
    }
   ],
   "source": [
    "display(df_cand_assets.head())\n",
    "display(df_cand_assets.columns)\n",
    "display(df_cand_assets.shape)"
   ]
  },
  {
   "cell_type": "code",
   "execution_count": 74,
   "metadata": {},
   "outputs": [
    {
     "data": {
      "text/html": [
       "<div>\n",
       "<style scoped>\n",
       "    .dataframe tbody tr th:only-of-type {\n",
       "        vertical-align: middle;\n",
       "    }\n",
       "\n",
       "    .dataframe tbody tr th {\n",
       "        vertical-align: top;\n",
       "    }\n",
       "\n",
       "    .dataframe thead th {\n",
       "        text-align: right;\n",
       "    }\n",
       "</style>\n",
       "<table border=\"1\" class=\"dataframe\">\n",
       "  <thead>\n",
       "    <tr style=\"text-align: right;\">\n",
       "      <th></th>\n",
       "      <th>SG_UF</th>\n",
       "      <th>SQ_CANDIDATO</th>\n",
       "      <th>NM_CANDIDATO</th>\n",
       "      <th>SQ_COLIGACAO</th>\n",
       "      <th>NM_COLIGACAO</th>\n",
       "      <th>QT_VOTOS_NOMINAIS_VALIDOS</th>\n",
       "      <th>DS_SIT_TOT_TURNO</th>\n",
       "    </tr>\n",
       "  </thead>\n",
       "  <tbody>\n",
       "    <tr>\n",
       "      <th>0</th>\n",
       "      <td>AC</td>\n",
       "      <td>10001650026</td>\n",
       "      <td>RUTENILSON CRISPIM DA SILVA</td>\n",
       "      <td>10001683298</td>\n",
       "      <td>PARTIDO ISOLADO</td>\n",
       "      <td>0</td>\n",
       "      <td>SUPLENTE</td>\n",
       "    </tr>\n",
       "    <tr>\n",
       "      <th>1</th>\n",
       "      <td>AC</td>\n",
       "      <td>10001601445</td>\n",
       "      <td>ESPERIDIÃO TEIXEIRA DE SOUZA FILHO</td>\n",
       "      <td>10001681113</td>\n",
       "      <td>PARTIDO ISOLADO</td>\n",
       "      <td>3</td>\n",
       "      <td>SUPLENTE</td>\n",
       "    </tr>\n",
       "    <tr>\n",
       "      <th>2</th>\n",
       "      <td>AC</td>\n",
       "      <td>10001649312</td>\n",
       "      <td>JOSE TARCISIO MEDEIROS DE MORAES</td>\n",
       "      <td>10001683275</td>\n",
       "      <td>PARTIDO ISOLADO</td>\n",
       "      <td>55</td>\n",
       "      <td>SUPLENTE</td>\n",
       "    </tr>\n",
       "    <tr>\n",
       "      <th>3</th>\n",
       "      <td>AC</td>\n",
       "      <td>10001595347</td>\n",
       "      <td>WILLIAN DOS SANTOS FRANCA</td>\n",
       "      <td>10001680825</td>\n",
       "      <td>FEDERAÇÃO</td>\n",
       "      <td>0</td>\n",
       "      <td>NÃO ELEITO</td>\n",
       "    </tr>\n",
       "    <tr>\n",
       "      <th>4</th>\n",
       "      <td>AC</td>\n",
       "      <td>10001622767</td>\n",
       "      <td>JOAQUIM FLORÊNCIO DA SILVA</td>\n",
       "      <td>10001682313</td>\n",
       "      <td>PARTIDO ISOLADO</td>\n",
       "      <td>1</td>\n",
       "      <td>SUPLENTE</td>\n",
       "    </tr>\n",
       "  </tbody>\n",
       "</table>\n",
       "</div>"
      ],
      "text/plain": [
       "  SG_UF  SQ_CANDIDATO                        NM_CANDIDATO  SQ_COLIGACAO  \\\n",
       "0    AC   10001650026         RUTENILSON CRISPIM DA SILVA   10001683298   \n",
       "1    AC   10001601445  ESPERIDIÃO TEIXEIRA DE SOUZA FILHO   10001681113   \n",
       "2    AC   10001649312    JOSE TARCISIO MEDEIROS DE MORAES   10001683275   \n",
       "3    AC   10001595347           WILLIAN DOS SANTOS FRANCA   10001680825   \n",
       "4    AC   10001622767          JOAQUIM FLORÊNCIO DA SILVA   10001682313   \n",
       "\n",
       "      NM_COLIGACAO  QT_VOTOS_NOMINAIS_VALIDOS DS_SIT_TOT_TURNO  \n",
       "0  PARTIDO ISOLADO                          0         SUPLENTE  \n",
       "1  PARTIDO ISOLADO                          3         SUPLENTE  \n",
       "2  PARTIDO ISOLADO                         55         SUPLENTE  \n",
       "3        FEDERAÇÃO                          0       NÃO ELEITO  \n",
       "4  PARTIDO ISOLADO                          1         SUPLENTE  "
      ]
     },
     "metadata": {},
     "output_type": "display_data"
    },
    {
     "data": {
      "text/plain": [
       "Index(['SG_UF', 'SQ_CANDIDATO', 'NM_CANDIDATO', 'SQ_COLIGACAO', 'NM_COLIGACAO',\n",
       "       'QT_VOTOS_NOMINAIS_VALIDOS', 'DS_SIT_TOT_TURNO'],\n",
       "      dtype='object')"
      ]
     },
     "metadata": {},
     "output_type": "display_data"
    },
    {
     "data": {
      "text/plain": [
       "(9297887, 7)"
      ]
     },
     "metadata": {},
     "output_type": "display_data"
    }
   ],
   "source": [
    "display(df_cand_voting.head())\n",
    "display(df_cand_voting.columns)\n",
    "display(df_cand_voting.shape)"
   ]
  },
  {
   "cell_type": "code",
   "execution_count": 75,
   "metadata": {},
   "outputs": [
    {
     "data": {
      "text/html": [
       "<div>\n",
       "<style scoped>\n",
       "    .dataframe tbody tr th:only-of-type {\n",
       "        vertical-align: middle;\n",
       "    }\n",
       "\n",
       "    .dataframe tbody tr th {\n",
       "        vertical-align: top;\n",
       "    }\n",
       "\n",
       "    .dataframe thead th {\n",
       "        text-align: right;\n",
       "    }\n",
       "</style>\n",
       "<table border=\"1\" class=\"dataframe\">\n",
       "  <thead>\n",
       "    <tr style=\"text-align: right;\">\n",
       "      <th></th>\n",
       "      <th>Cargo</th>\n",
       "      <th>Espécie receita</th>\n",
       "      <th>Fonte de receita</th>\n",
       "      <th>Nome candidato</th>\n",
       "      <th>Nome doador</th>\n",
       "      <th>Origem da receita</th>\n",
       "      <th>Partido</th>\n",
       "      <th>Situação de candidatura</th>\n",
       "      <th>Situação de totalização</th>\n",
       "      <th>UF</th>\n",
       "      <th>Valor de receita</th>\n",
       "      <th>Data de carga</th>\n",
       "    </tr>\n",
       "  </thead>\n",
       "  <tbody>\n",
       "    <tr>\n",
       "      <th>0</th>\n",
       "      <td>Deputado Distrital</td>\n",
       "      <td>--</td>\n",
       "      <td>FUNDO ESPECIAL</td>\n",
       "      <td>CLÁUDIA VIRGÍNIA RODRIGUES PEREIRA</td>\n",
       "      <td>#NULO#</td>\n",
       "      <td>Rendimentos de aplicações financeiras</td>\n",
       "      <td>PODE</td>\n",
       "      <td>Apto</td>\n",
       "      <td>Não eleito</td>\n",
       "      <td>DF</td>\n",
       "      <td>3.47</td>\n",
       "      <td>2024-01-30 01:04:47</td>\n",
       "    </tr>\n",
       "    <tr>\n",
       "      <th>1</th>\n",
       "      <td>Deputado Distrital</td>\n",
       "      <td>--</td>\n",
       "      <td>FUNDO ESPECIAL</td>\n",
       "      <td>CRISTIANE PEREIRA DOS SANTOS</td>\n",
       "      <td>#NULO#</td>\n",
       "      <td>Rendimentos de aplicações financeiras</td>\n",
       "      <td>PT</td>\n",
       "      <td>Apto</td>\n",
       "      <td>Suplente</td>\n",
       "      <td>DF</td>\n",
       "      <td>34.88</td>\n",
       "      <td>2024-01-30 01:04:47</td>\n",
       "    </tr>\n",
       "    <tr>\n",
       "      <th>2</th>\n",
       "      <td>Deputado Distrital</td>\n",
       "      <td>--</td>\n",
       "      <td>FUNDO ESPECIAL</td>\n",
       "      <td>FRANCISCO DOMINGOS DOS SANTOS</td>\n",
       "      <td>#NULO#</td>\n",
       "      <td>Rendimentos de aplicações financeiras</td>\n",
       "      <td>PT</td>\n",
       "      <td>Apto</td>\n",
       "      <td>Eleito por QP</td>\n",
       "      <td>DF</td>\n",
       "      <td>35.41</td>\n",
       "      <td>2024-01-30 01:04:47</td>\n",
       "    </tr>\n",
       "    <tr>\n",
       "      <th>3</th>\n",
       "      <td>Deputado Distrital</td>\n",
       "      <td>--</td>\n",
       "      <td>FUNDO ESPECIAL</td>\n",
       "      <td>GISELE CRISTINE DE ALMEIDA MONTENEGRO</td>\n",
       "      <td>#NULO#</td>\n",
       "      <td>Rendimentos de aplicações financeiras</td>\n",
       "      <td>PP</td>\n",
       "      <td>Apto</td>\n",
       "      <td>Suplente</td>\n",
       "      <td>DF</td>\n",
       "      <td>71.79</td>\n",
       "      <td>2024-01-30 01:04:47</td>\n",
       "    </tr>\n",
       "    <tr>\n",
       "      <th>4</th>\n",
       "      <td>Deputado Distrital</td>\n",
       "      <td>--</td>\n",
       "      <td>FUNDO ESPECIAL</td>\n",
       "      <td>JOSÉ CLÁUDIO BONINA</td>\n",
       "      <td>#NULO#</td>\n",
       "      <td>Rendimentos de aplicações financeiras</td>\n",
       "      <td>MDB</td>\n",
       "      <td>Apto</td>\n",
       "      <td>Suplente</td>\n",
       "      <td>DF</td>\n",
       "      <td>173.66</td>\n",
       "      <td>2024-01-30 01:04:47</td>\n",
       "    </tr>\n",
       "  </tbody>\n",
       "</table>\n",
       "</div>"
      ],
      "text/plain": [
       "                Cargo Espécie receita Fonte de receita  \\\n",
       "0  Deputado Distrital              --   FUNDO ESPECIAL   \n",
       "1  Deputado Distrital              --   FUNDO ESPECIAL   \n",
       "2  Deputado Distrital              --   FUNDO ESPECIAL   \n",
       "3  Deputado Distrital              --   FUNDO ESPECIAL   \n",
       "4  Deputado Distrital              --   FUNDO ESPECIAL   \n",
       "\n",
       "                          Nome candidato Nome doador  \\\n",
       "0     CLÁUDIA VIRGÍNIA RODRIGUES PEREIRA      #NULO#   \n",
       "1           CRISTIANE PEREIRA DOS SANTOS      #NULO#   \n",
       "2          FRANCISCO DOMINGOS DOS SANTOS      #NULO#   \n",
       "3  GISELE CRISTINE DE ALMEIDA MONTENEGRO      #NULO#   \n",
       "4                    JOSÉ CLÁUDIO BONINA      #NULO#   \n",
       "\n",
       "                       Origem da receita Partido Situação de candidatura  \\\n",
       "0  Rendimentos de aplicações financeiras    PODE                    Apto   \n",
       "1  Rendimentos de aplicações financeiras      PT                    Apto   \n",
       "2  Rendimentos de aplicações financeiras      PT                    Apto   \n",
       "3  Rendimentos de aplicações financeiras      PP                    Apto   \n",
       "4  Rendimentos de aplicações financeiras     MDB                    Apto   \n",
       "\n",
       "  Situação de totalização  UF  Valor de receita        Data de carga  \n",
       "0              Não eleito  DF              3.47  2024-01-30 01:04:47  \n",
       "1                Suplente  DF             34.88  2024-01-30 01:04:47  \n",
       "2           Eleito por QP  DF             35.41  2024-01-30 01:04:47  \n",
       "3                Suplente  DF             71.79  2024-01-30 01:04:47  \n",
       "4                Suplente  DF            173.66  2024-01-30 01:04:47  "
      ]
     },
     "metadata": {},
     "output_type": "display_data"
    },
    {
     "data": {
      "text/plain": [
       "Index(['Cargo', 'Espécie receita', 'Fonte de receita', 'Nome candidato',\n",
       "       'Nome doador', 'Origem da receita', 'Partido',\n",
       "       'Situação de candidatura', 'Situação de totalização', 'UF',\n",
       "       'Valor de receita', 'Data de carga'],\n",
       "      dtype='object')"
      ]
     },
     "metadata": {},
     "output_type": "display_data"
    },
    {
     "data": {
      "text/plain": [
       "(546331, 12)"
      ]
     },
     "metadata": {},
     "output_type": "display_data"
    }
   ],
   "source": [
    "display(df_cand_revenues.head())\n",
    "display(df_cand_revenues.columns)\n",
    "display(df_cand_revenues.shape)"
   ]
  },
  {
   "cell_type": "code",
   "execution_count": 76,
   "metadata": {},
   "outputs": [
    {
     "data": {
      "text/html": [
       "<div>\n",
       "<style scoped>\n",
       "    .dataframe tbody tr th:only-of-type {\n",
       "        vertical-align: middle;\n",
       "    }\n",
       "\n",
       "    .dataframe tbody tr th {\n",
       "        vertical-align: top;\n",
       "    }\n",
       "\n",
       "    .dataframe thead th {\n",
       "        text-align: right;\n",
       "    }\n",
       "</style>\n",
       "<table border=\"1\" class=\"dataframe\">\n",
       "  <thead>\n",
       "    <tr style=\"text-align: right;\">\n",
       "      <th></th>\n",
       "      <th>SQ_PRESTADOR_CONTAS</th>\n",
       "      <th>SG_UF</th>\n",
       "      <th>SQ_DESPESA</th>\n",
       "      <th>VR_PAGTO_DESPESA</th>\n",
       "    </tr>\n",
       "  </thead>\n",
       "  <tbody>\n",
       "    <tr>\n",
       "      <th>0</th>\n",
       "      <td>3791358983</td>\n",
       "      <td>AC</td>\n",
       "      <td>48073944</td>\n",
       "      <td>500,00</td>\n",
       "    </tr>\n",
       "    <tr>\n",
       "      <th>1</th>\n",
       "      <td>3780998577</td>\n",
       "      <td>AC</td>\n",
       "      <td>50896971</td>\n",
       "      <td>1616,00</td>\n",
       "    </tr>\n",
       "    <tr>\n",
       "      <th>2</th>\n",
       "      <td>3780998577</td>\n",
       "      <td>AC</td>\n",
       "      <td>50896980</td>\n",
       "      <td>1818,00</td>\n",
       "    </tr>\n",
       "    <tr>\n",
       "      <th>3</th>\n",
       "      <td>3780998577</td>\n",
       "      <td>AC</td>\n",
       "      <td>50897051</td>\n",
       "      <td>300,00</td>\n",
       "    </tr>\n",
       "    <tr>\n",
       "      <th>4</th>\n",
       "      <td>3780998577</td>\n",
       "      <td>AC</td>\n",
       "      <td>50897184</td>\n",
       "      <td>1818,00</td>\n",
       "    </tr>\n",
       "  </tbody>\n",
       "</table>\n",
       "</div>"
      ],
      "text/plain": [
       "   SQ_PRESTADOR_CONTAS SG_UF  SQ_DESPESA VR_PAGTO_DESPESA\n",
       "0           3791358983    AC    48073944           500,00\n",
       "1           3780998577    AC    50896971          1616,00\n",
       "2           3780998577    AC    50896980          1818,00\n",
       "3           3780998577    AC    50897051           300,00\n",
       "4           3780998577    AC    50897184          1818,00"
      ]
     },
     "metadata": {},
     "output_type": "display_data"
    },
    {
     "data": {
      "text/plain": [
       "Index(['SQ_PRESTADOR_CONTAS', 'SG_UF', 'SQ_DESPESA', 'VR_PAGTO_DESPESA'], dtype='object')"
      ]
     },
     "metadata": {},
     "output_type": "display_data"
    },
    {
     "data": {
      "text/plain": [
       "(2394890, 4)"
      ]
     },
     "metadata": {},
     "output_type": "display_data"
    }
   ],
   "source": [
    "display(df_cand_expense_paid.head())\n",
    "display(df_cand_expense_paid.columns)\n",
    "display(df_cand_expense_paid.shape)"
   ]
  },
  {
   "cell_type": "code",
   "execution_count": 77,
   "metadata": {},
   "outputs": [
    {
     "data": {
      "text/html": [
       "<div>\n",
       "<style scoped>\n",
       "    .dataframe tbody tr th:only-of-type {\n",
       "        vertical-align: middle;\n",
       "    }\n",
       "\n",
       "    .dataframe tbody tr th {\n",
       "        vertical-align: top;\n",
       "    }\n",
       "\n",
       "    .dataframe thead th {\n",
       "        text-align: right;\n",
       "    }\n",
       "</style>\n",
       "<table border=\"1\" class=\"dataframe\">\n",
       "  <thead>\n",
       "    <tr style=\"text-align: right;\">\n",
       "      <th></th>\n",
       "      <th>SQ_PRESTADOR_CONTAS</th>\n",
       "      <th>SG_UF</th>\n",
       "      <th>DS_CARGO</th>\n",
       "      <th>SQ_CANDIDATO</th>\n",
       "      <th>NR_CPF_CNPJ_FORNECEDOR</th>\n",
       "      <th>NM_FORNECEDOR</th>\n",
       "      <th>SQ_DESPESA</th>\n",
       "      <th>VR_DESPESA_CONTRATADA</th>\n",
       "    </tr>\n",
       "  </thead>\n",
       "  <tbody>\n",
       "    <tr>\n",
       "      <th>0</th>\n",
       "      <td>3758120822</td>\n",
       "      <td>AC</td>\n",
       "      <td>Deputado Estadual</td>\n",
       "      <td>10001601422</td>\n",
       "      <td>36599964000145</td>\n",
       "      <td>X. O. DO VALE</td>\n",
       "      <td>47611322</td>\n",
       "      <td>1400,00</td>\n",
       "    </tr>\n",
       "    <tr>\n",
       "      <th>1</th>\n",
       "      <td>3758120822</td>\n",
       "      <td>AC</td>\n",
       "      <td>Deputado Estadual</td>\n",
       "      <td>10001601422</td>\n",
       "      <td>36599964000145</td>\n",
       "      <td>X. O. DO VALE</td>\n",
       "      <td>47611322</td>\n",
       "      <td>1200,00</td>\n",
       "    </tr>\n",
       "    <tr>\n",
       "      <th>2</th>\n",
       "      <td>3758120822</td>\n",
       "      <td>AC</td>\n",
       "      <td>Deputado Estadual</td>\n",
       "      <td>10001601422</td>\n",
       "      <td>36599964000145</td>\n",
       "      <td>X. O. DO VALE</td>\n",
       "      <td>47611322</td>\n",
       "      <td>290,00</td>\n",
       "    </tr>\n",
       "    <tr>\n",
       "      <th>3</th>\n",
       "      <td>3797151024</td>\n",
       "      <td>AC</td>\n",
       "      <td>Deputado Federal</td>\n",
       "      <td>10001655721</td>\n",
       "      <td>43271321000133</td>\n",
       "      <td>GRUPO SEVEN COMERCIO E SERVIÇOS LTDA</td>\n",
       "      <td>52035977</td>\n",
       "      <td>16000,00</td>\n",
       "    </tr>\n",
       "    <tr>\n",
       "      <th>4</th>\n",
       "      <td>3794801898</td>\n",
       "      <td>AC</td>\n",
       "      <td>Senador</td>\n",
       "      <td>10001643706</td>\n",
       "      <td>47552865000124</td>\n",
       "      <td>JUSCYHELISON OLIVEIRA ROSA TAVARES</td>\n",
       "      <td>51928091</td>\n",
       "      <td>10000,00</td>\n",
       "    </tr>\n",
       "  </tbody>\n",
       "</table>\n",
       "</div>"
      ],
      "text/plain": [
       "   SQ_PRESTADOR_CONTAS SG_UF           DS_CARGO  SQ_CANDIDATO  \\\n",
       "0           3758120822    AC  Deputado Estadual   10001601422   \n",
       "1           3758120822    AC  Deputado Estadual   10001601422   \n",
       "2           3758120822    AC  Deputado Estadual   10001601422   \n",
       "3           3797151024    AC   Deputado Federal   10001655721   \n",
       "4           3794801898    AC            Senador   10001643706   \n",
       "\n",
       "   NR_CPF_CNPJ_FORNECEDOR                         NM_FORNECEDOR  SQ_DESPESA  \\\n",
       "0          36599964000145                         X. O. DO VALE    47611322   \n",
       "1          36599964000145                         X. O. DO VALE    47611322   \n",
       "2          36599964000145                         X. O. DO VALE    47611322   \n",
       "3          43271321000133  GRUPO SEVEN COMERCIO E SERVIÇOS LTDA    52035977   \n",
       "4          47552865000124    JUSCYHELISON OLIVEIRA ROSA TAVARES    51928091   \n",
       "\n",
       "  VR_DESPESA_CONTRATADA  \n",
       "0               1400,00  \n",
       "1               1200,00  \n",
       "2                290,00  \n",
       "3              16000,00  \n",
       "4              10000,00  "
      ]
     },
     "metadata": {},
     "output_type": "display_data"
    },
    {
     "data": {
      "text/plain": [
       "Index(['SQ_PRESTADOR_CONTAS', 'SG_UF', 'DS_CARGO', 'SQ_CANDIDATO',\n",
       "       'NR_CPF_CNPJ_FORNECEDOR', 'NM_FORNECEDOR', 'SQ_DESPESA',\n",
       "       'VR_DESPESA_CONTRATADA'],\n",
       "      dtype='object')"
      ]
     },
     "metadata": {},
     "output_type": "display_data"
    },
    {
     "data": {
      "text/plain": [
       "(2182250, 8)"
      ]
     },
     "metadata": {},
     "output_type": "display_data"
    }
   ],
   "source": [
    "display(df_cand_contracted_expense.head())\n",
    "display(df_cand_contracted_expense.columns)\n",
    "display(df_cand_contracted_expense.shape)"
   ]
  },
  {
   "cell_type": "markdown",
   "metadata": {},
   "source": [
    "Como vamos focar nas eleições para a Câmara, vamos limpar os Data Frames afim de conseguir os dados apenas dos candidatos à Deputado Federal."
   ]
  },
  {
   "cell_type": "code",
   "execution_count": 78,
   "metadata": {},
   "outputs": [],
   "source": [
    "df_cand_fed_dep = df_candidates[df_candidates[\"DS_CARGO\"] == \"DEPUTADO FEDERAL\"]\n",
    "df_cand_fed_dep = df_cand_fed_dep[df_cand_fed_dep[\"DS_SITUACAO_CANDIDATURA\"] == \"APTO\"]\n",
    "\n",
    "df_cand_assets_total = df_cand_assets[df_cand_assets[\"SQ_CANDIDATO\"].isin(df_cand_fed_dep[\"SQ_CANDIDATO\"])]\n",
    "df_cand_assets_total.loc[:,\"VR_BEM_CANDIDATO\"] = df_cand_assets_total[\"VR_BEM_CANDIDATO\"].str.replace(\",\", \".\").astype(float)\n",
    "df_cand_assets_total = df_cand_assets_total.groupby(\"SQ_CANDIDATO\")[\"VR_BEM_CANDIDATO\"].sum().reset_index()\n",
    "\n",
    "df_cand_voting_total = df_cand_voting[df_cand_voting[\"SQ_CANDIDATO\"].isin(df_cand_fed_dep[\"SQ_CANDIDATO\"])]\n",
    "df_cand_voting_total = df_cand_voting_total.groupby([\"SQ_CANDIDATO\", \"DS_SIT_TOT_TURNO\"]).agg({\"QT_VOTOS_NOMINAIS_VALIDOS\": \"sum\"}).reset_index()\n",
    "\n",
    "df_cand_revenues_total = df_cand_revenues[df_cand_revenues[\"Cargo\"] == \"Deputado Federal\"]\n",
    "df_cand_revenues_total = df_cand_revenues_total.groupby([\"Nome candidato\", \"Partido\"]).agg({\"Valor de receita\": \"sum\"}).reset_index()\n",
    "\n",
    "df_cand_contr_expense_total = df_cand_contracted_expense[df_cand_contracted_expense[\"SQ_CANDIDATO\"].isin(df_cand_fed_dep[\"SQ_CANDIDATO\"])]\n",
    "df_cand_contr_expense_total.loc[:, \"VR_DESPESA_CONTRATADA\"] = df_cand_contr_expense_total[\"VR_DESPESA_CONTRATADA\"].str.replace(\",\", \".\").astype(float)\n",
    "df_cand_contr_expense_total = df_cand_contr_expense_total.groupby([\"SQ_CANDIDATO\", \"SQ_PRESTADOR_CONTAS\"]).agg({\"VR_DESPESA_CONTRATADA\": \"sum\"}).reset_index()\n",
    "df_cand_expense_paid_total = df_cand_expense_paid[df_cand_expense_paid[\"SQ_PRESTADOR_CONTAS\"].isin(df_cand_contr_expense_total[\"SQ_PRESTADOR_CONTAS\"])]\n",
    "df_cand_expense_paid_total.loc[:, \"VR_PAGTO_DESPESA\"] = df_cand_expense_paid_total[\"VR_PAGTO_DESPESA\"].str.replace(\",\", \".\").astype(float)\n",
    "df_cand_expense_paid_total = df_cand_expense_paid_total.groupby(\"SQ_PRESTADOR_CONTAS\")[\"VR_PAGTO_DESPESA\"].sum().reset_index()\n",
    "df_cand_expense_total = pd.merge(df_cand_expense_paid_total, df_cand_contr_expense_total, on=\"SQ_PRESTADOR_CONTAS\")"
   ]
  },
  {
   "cell_type": "code",
   "execution_count": 79,
   "metadata": {},
   "outputs": [
    {
     "data": {
      "text/html": [
       "<div>\n",
       "<style scoped>\n",
       "    .dataframe tbody tr th:only-of-type {\n",
       "        vertical-align: middle;\n",
       "    }\n",
       "\n",
       "    .dataframe tbody tr th {\n",
       "        vertical-align: top;\n",
       "    }\n",
       "\n",
       "    .dataframe thead th {\n",
       "        text-align: right;\n",
       "    }\n",
       "</style>\n",
       "<table border=\"1\" class=\"dataframe\">\n",
       "  <thead>\n",
       "    <tr style=\"text-align: right;\">\n",
       "      <th></th>\n",
       "      <th>DT_GERACAO</th>\n",
       "      <th>HH_GERACAO</th>\n",
       "      <th>ANO_ELEICAO</th>\n",
       "      <th>CD_TIPO_ELEICAO</th>\n",
       "      <th>NM_TIPO_ELEICAO</th>\n",
       "      <th>NR_TURNO</th>\n",
       "      <th>CD_ELEICAO</th>\n",
       "      <th>DS_ELEICAO</th>\n",
       "      <th>DT_ELEICAO</th>\n",
       "      <th>TP_ABRANGENCIA</th>\n",
       "      <th>...</th>\n",
       "      <th>NR_PROCESSO</th>\n",
       "      <th>CD_SITUACAO_CANDIDATO_PLEITO</th>\n",
       "      <th>DS_SITUACAO_CANDIDATO_PLEITO</th>\n",
       "      <th>CD_SITUACAO_CANDIDATO_URNA</th>\n",
       "      <th>DS_SITUACAO_CANDIDATO_URNA</th>\n",
       "      <th>ST_CANDIDATO_INSERIDO_URNA</th>\n",
       "      <th>NM_TIPO_DESTINACAO_VOTOS</th>\n",
       "      <th>CD_SITUACAO_CANDIDATO_TOT</th>\n",
       "      <th>DS_SITUACAO_CANDIDATO_TOT</th>\n",
       "      <th>ST_PREST_CONTAS</th>\n",
       "    </tr>\n",
       "  </thead>\n",
       "  <tbody>\n",
       "    <tr>\n",
       "      <th>0</th>\n",
       "      <td>09/12/2022</td>\n",
       "      <td>18:37:33</td>\n",
       "      <td>2022</td>\n",
       "      <td>2</td>\n",
       "      <td>ELEIÇÃO ORDINÁRIA</td>\n",
       "      <td>1</td>\n",
       "      <td>546</td>\n",
       "      <td>Eleições Gerais Estaduais 2022</td>\n",
       "      <td>02/10/2022</td>\n",
       "      <td>ESTADUAL</td>\n",
       "      <td>...</td>\n",
       "      <td>6003641820226010000</td>\n",
       "      <td>2</td>\n",
       "      <td>DEFERIDO</td>\n",
       "      <td>2</td>\n",
       "      <td>DEFERIDO</td>\n",
       "      <td>SIM</td>\n",
       "      <td>Válido</td>\n",
       "      <td>2</td>\n",
       "      <td>Deferido</td>\n",
       "      <td>S</td>\n",
       "    </tr>\n",
       "    <tr>\n",
       "      <th>3</th>\n",
       "      <td>09/12/2022</td>\n",
       "      <td>18:37:33</td>\n",
       "      <td>2022</td>\n",
       "      <td>2</td>\n",
       "      <td>ELEIÇÃO ORDINÁRIA</td>\n",
       "      <td>1</td>\n",
       "      <td>546</td>\n",
       "      <td>Eleições Gerais Estaduais 2022</td>\n",
       "      <td>02/10/2022</td>\n",
       "      <td>ESTADUAL</td>\n",
       "      <td>...</td>\n",
       "      <td>6003729220226010000</td>\n",
       "      <td>2</td>\n",
       "      <td>DEFERIDO</td>\n",
       "      <td>2</td>\n",
       "      <td>DEFERIDO</td>\n",
       "      <td>SIM</td>\n",
       "      <td>Válido</td>\n",
       "      <td>2</td>\n",
       "      <td>Deferido</td>\n",
       "      <td>S</td>\n",
       "    </tr>\n",
       "    <tr>\n",
       "      <th>4</th>\n",
       "      <td>09/12/2022</td>\n",
       "      <td>18:37:33</td>\n",
       "      <td>2022</td>\n",
       "      <td>2</td>\n",
       "      <td>ELEIÇÃO ORDINÁRIA</td>\n",
       "      <td>1</td>\n",
       "      <td>546</td>\n",
       "      <td>Eleições Gerais Estaduais 2022</td>\n",
       "      <td>02/10/2022</td>\n",
       "      <td>ESTADUAL</td>\n",
       "      <td>...</td>\n",
       "      <td>6003581120226010000</td>\n",
       "      <td>2</td>\n",
       "      <td>DEFERIDO</td>\n",
       "      <td>2</td>\n",
       "      <td>DEFERIDO</td>\n",
       "      <td>SIM</td>\n",
       "      <td>Válido</td>\n",
       "      <td>2</td>\n",
       "      <td>Deferido</td>\n",
       "      <td>S</td>\n",
       "    </tr>\n",
       "    <tr>\n",
       "      <th>5</th>\n",
       "      <td>09/12/2022</td>\n",
       "      <td>18:37:33</td>\n",
       "      <td>2022</td>\n",
       "      <td>2</td>\n",
       "      <td>ELEIÇÃO ORDINÁRIA</td>\n",
       "      <td>1</td>\n",
       "      <td>546</td>\n",
       "      <td>Eleições Gerais Estaduais 2022</td>\n",
       "      <td>02/10/2022</td>\n",
       "      <td>ESTADUAL</td>\n",
       "      <td>...</td>\n",
       "      <td>6001858420226010000</td>\n",
       "      <td>2</td>\n",
       "      <td>DEFERIDO</td>\n",
       "      <td>2</td>\n",
       "      <td>DEFERIDO</td>\n",
       "      <td>SIM</td>\n",
       "      <td>Válido</td>\n",
       "      <td>2</td>\n",
       "      <td>Deferido</td>\n",
       "      <td>S</td>\n",
       "    </tr>\n",
       "    <tr>\n",
       "      <th>13</th>\n",
       "      <td>09/12/2022</td>\n",
       "      <td>18:37:33</td>\n",
       "      <td>2022</td>\n",
       "      <td>2</td>\n",
       "      <td>ELEIÇÃO ORDINÁRIA</td>\n",
       "      <td>1</td>\n",
       "      <td>546</td>\n",
       "      <td>Eleições Gerais Estaduais 2022</td>\n",
       "      <td>02/10/2022</td>\n",
       "      <td>ESTADUAL</td>\n",
       "      <td>...</td>\n",
       "      <td>6006656220226010000</td>\n",
       "      <td>2</td>\n",
       "      <td>DEFERIDO</td>\n",
       "      <td>2</td>\n",
       "      <td>DEFERIDO</td>\n",
       "      <td>SIM</td>\n",
       "      <td>Válido</td>\n",
       "      <td>2</td>\n",
       "      <td>Deferido</td>\n",
       "      <td>S</td>\n",
       "    </tr>\n",
       "  </tbody>\n",
       "</table>\n",
       "<p>5 rows × 71 columns</p>\n",
       "</div>"
      ],
      "text/plain": [
       "    DT_GERACAO HH_GERACAO  ANO_ELEICAO  CD_TIPO_ELEICAO    NM_TIPO_ELEICAO  \\\n",
       "0   09/12/2022   18:37:33         2022                2  ELEIÇÃO ORDINÁRIA   \n",
       "3   09/12/2022   18:37:33         2022                2  ELEIÇÃO ORDINÁRIA   \n",
       "4   09/12/2022   18:37:33         2022                2  ELEIÇÃO ORDINÁRIA   \n",
       "5   09/12/2022   18:37:33         2022                2  ELEIÇÃO ORDINÁRIA   \n",
       "13  09/12/2022   18:37:33         2022                2  ELEIÇÃO ORDINÁRIA   \n",
       "\n",
       "    NR_TURNO  CD_ELEICAO                      DS_ELEICAO  DT_ELEICAO  \\\n",
       "0          1         546  Eleições Gerais Estaduais 2022  02/10/2022   \n",
       "3          1         546  Eleições Gerais Estaduais 2022  02/10/2022   \n",
       "4          1         546  Eleições Gerais Estaduais 2022  02/10/2022   \n",
       "5          1         546  Eleições Gerais Estaduais 2022  02/10/2022   \n",
       "13         1         546  Eleições Gerais Estaduais 2022  02/10/2022   \n",
       "\n",
       "   TP_ABRANGENCIA  ...          NR_PROCESSO CD_SITUACAO_CANDIDATO_PLEITO  \\\n",
       "0        ESTADUAL  ...  6003641820226010000                            2   \n",
       "3        ESTADUAL  ...  6003729220226010000                            2   \n",
       "4        ESTADUAL  ...  6003581120226010000                            2   \n",
       "5        ESTADUAL  ...  6001858420226010000                            2   \n",
       "13       ESTADUAL  ...  6006656220226010000                            2   \n",
       "\n",
       "   DS_SITUACAO_CANDIDATO_PLEITO  CD_SITUACAO_CANDIDATO_URNA  \\\n",
       "0                      DEFERIDO                           2   \n",
       "3                      DEFERIDO                           2   \n",
       "4                      DEFERIDO                           2   \n",
       "5                      DEFERIDO                           2   \n",
       "13                     DEFERIDO                           2   \n",
       "\n",
       "   DS_SITUACAO_CANDIDATO_URNA  ST_CANDIDATO_INSERIDO_URNA  \\\n",
       "0                    DEFERIDO                         SIM   \n",
       "3                    DEFERIDO                         SIM   \n",
       "4                    DEFERIDO                         SIM   \n",
       "5                    DEFERIDO                         SIM   \n",
       "13                   DEFERIDO                         SIM   \n",
       "\n",
       "    NM_TIPO_DESTINACAO_VOTOS CD_SITUACAO_CANDIDATO_TOT  \\\n",
       "0                     Válido                         2   \n",
       "3                     Válido                         2   \n",
       "4                     Válido                         2   \n",
       "5                     Válido                         2   \n",
       "13                    Válido                         2   \n",
       "\n",
       "   DS_SITUACAO_CANDIDATO_TOT ST_PREST_CONTAS  \n",
       "0                   Deferido               S  \n",
       "3                   Deferido               S  \n",
       "4                   Deferido               S  \n",
       "5                   Deferido               S  \n",
       "13                  Deferido               S  \n",
       "\n",
       "[5 rows x 71 columns]"
      ]
     },
     "metadata": {},
     "output_type": "display_data"
    },
    {
     "data": {
      "text/plain": [
       "(9530, 71)"
      ]
     },
     "metadata": {},
     "output_type": "display_data"
    }
   ],
   "source": [
    "display(df_cand_fed_dep.head())\n",
    "display(df_cand_fed_dep.shape)"
   ]
  },
  {
   "cell_type": "code",
   "execution_count": 80,
   "metadata": {},
   "outputs": [
    {
     "data": {
      "text/html": [
       "<div>\n",
       "<style scoped>\n",
       "    .dataframe tbody tr th:only-of-type {\n",
       "        vertical-align: middle;\n",
       "    }\n",
       "\n",
       "    .dataframe tbody tr th {\n",
       "        vertical-align: top;\n",
       "    }\n",
       "\n",
       "    .dataframe thead th {\n",
       "        text-align: right;\n",
       "    }\n",
       "</style>\n",
       "<table border=\"1\" class=\"dataframe\">\n",
       "  <thead>\n",
       "    <tr style=\"text-align: right;\">\n",
       "      <th></th>\n",
       "      <th>SQ_CANDIDATO</th>\n",
       "      <th>VR_BEM_CANDIDATO</th>\n",
       "    </tr>\n",
       "  </thead>\n",
       "  <tbody>\n",
       "    <tr>\n",
       "      <th>0</th>\n",
       "      <td>10001595342</td>\n",
       "      <td>225000.0</td>\n",
       "    </tr>\n",
       "    <tr>\n",
       "      <th>1</th>\n",
       "      <td>10001595343</td>\n",
       "      <td>140000.0</td>\n",
       "    </tr>\n",
       "    <tr>\n",
       "      <th>2</th>\n",
       "      <td>10001595344</td>\n",
       "      <td>925000.0</td>\n",
       "    </tr>\n",
       "    <tr>\n",
       "      <th>3</th>\n",
       "      <td>10001601531</td>\n",
       "      <td>350000.0</td>\n",
       "    </tr>\n",
       "    <tr>\n",
       "      <th>4</th>\n",
       "      <td>10001601532</td>\n",
       "      <td>55000.0</td>\n",
       "    </tr>\n",
       "  </tbody>\n",
       "</table>\n",
       "</div>"
      ],
      "text/plain": [
       "   SQ_CANDIDATO VR_BEM_CANDIDATO\n",
       "0   10001595342         225000.0\n",
       "1   10001595343         140000.0\n",
       "2   10001595344         925000.0\n",
       "3   10001601531         350000.0\n",
       "4   10001601532          55000.0"
      ]
     },
     "metadata": {},
     "output_type": "display_data"
    },
    {
     "data": {
      "text/plain": [
       "(6257, 2)"
      ]
     },
     "metadata": {},
     "output_type": "display_data"
    }
   ],
   "source": [
    "display(df_cand_assets_total.head())\n",
    "display(df_cand_assets_total.shape)"
   ]
  },
  {
   "cell_type": "code",
   "execution_count": 81,
   "metadata": {},
   "outputs": [
    {
     "data": {
      "text/html": [
       "<div>\n",
       "<style scoped>\n",
       "    .dataframe tbody tr th:only-of-type {\n",
       "        vertical-align: middle;\n",
       "    }\n",
       "\n",
       "    .dataframe tbody tr th {\n",
       "        vertical-align: top;\n",
       "    }\n",
       "\n",
       "    .dataframe thead th {\n",
       "        text-align: right;\n",
       "    }\n",
       "</style>\n",
       "<table border=\"1\" class=\"dataframe\">\n",
       "  <thead>\n",
       "    <tr style=\"text-align: right;\">\n",
       "      <th></th>\n",
       "      <th>SQ_CANDIDATO</th>\n",
       "      <th>DS_SIT_TOT_TURNO</th>\n",
       "      <th>QT_VOTOS_NOMINAIS_VALIDOS</th>\n",
       "    </tr>\n",
       "  </thead>\n",
       "  <tbody>\n",
       "    <tr>\n",
       "      <th>0</th>\n",
       "      <td>10001595342</td>\n",
       "      <td>NÃO ELEITO</td>\n",
       "      <td>175</td>\n",
       "    </tr>\n",
       "    <tr>\n",
       "      <th>1</th>\n",
       "      <td>10001595343</td>\n",
       "      <td>NÃO ELEITO</td>\n",
       "      <td>120</td>\n",
       "    </tr>\n",
       "    <tr>\n",
       "      <th>2</th>\n",
       "      <td>10001595344</td>\n",
       "      <td>NÃO ELEITO</td>\n",
       "      <td>176</td>\n",
       "    </tr>\n",
       "    <tr>\n",
       "      <th>3</th>\n",
       "      <td>10001595345</td>\n",
       "      <td>NÃO ELEITO</td>\n",
       "      <td>2794</td>\n",
       "    </tr>\n",
       "    <tr>\n",
       "      <th>4</th>\n",
       "      <td>10001595346</td>\n",
       "      <td>NÃO ELEITO</td>\n",
       "      <td>114</td>\n",
       "    </tr>\n",
       "  </tbody>\n",
       "</table>\n",
       "</div>"
      ],
      "text/plain": [
       "   SQ_CANDIDATO DS_SIT_TOT_TURNO  QT_VOTOS_NOMINAIS_VALIDOS\n",
       "0   10001595342       NÃO ELEITO                        175\n",
       "1   10001595343       NÃO ELEITO                        120\n",
       "2   10001595344       NÃO ELEITO                        176\n",
       "3   10001595345       NÃO ELEITO                       2794\n",
       "4   10001595346       NÃO ELEITO                        114"
      ]
     },
     "metadata": {},
     "output_type": "display_data"
    },
    {
     "data": {
      "text/plain": [
       "(9530, 3)"
      ]
     },
     "metadata": {},
     "output_type": "display_data"
    }
   ],
   "source": [
    "display(df_cand_voting_total.head())\n",
    "display(df_cand_voting_total.shape)"
   ]
  },
  {
   "cell_type": "code",
   "execution_count": 82,
   "metadata": {},
   "outputs": [
    {
     "data": {
      "text/html": [
       "<div>\n",
       "<style scoped>\n",
       "    .dataframe tbody tr th:only-of-type {\n",
       "        vertical-align: middle;\n",
       "    }\n",
       "\n",
       "    .dataframe tbody tr th {\n",
       "        vertical-align: top;\n",
       "    }\n",
       "\n",
       "    .dataframe thead th {\n",
       "        text-align: right;\n",
       "    }\n",
       "</style>\n",
       "<table border=\"1\" class=\"dataframe\">\n",
       "  <thead>\n",
       "    <tr style=\"text-align: right;\">\n",
       "      <th></th>\n",
       "      <th>Nome candidato</th>\n",
       "      <th>Partido</th>\n",
       "      <th>Valor de receita</th>\n",
       "    </tr>\n",
       "  </thead>\n",
       "  <tbody>\n",
       "    <tr>\n",
       "      <th>0</th>\n",
       "      <td>LURDENIS DE ALENCAR VIEIRA</td>\n",
       "      <td>AVANTE</td>\n",
       "      <td>407500.00</td>\n",
       "    </tr>\n",
       "    <tr>\n",
       "      <th>1</th>\n",
       "      <td>AAVA SANTIAGO AGUIAR</td>\n",
       "      <td>PSDB</td>\n",
       "      <td>1663431.98</td>\n",
       "    </tr>\n",
       "    <tr>\n",
       "      <th>2</th>\n",
       "      <td>ABDIAS DE MELO TEIXEIRA NETO</td>\n",
       "      <td>PP</td>\n",
       "      <td>200000.00</td>\n",
       "    </tr>\n",
       "    <tr>\n",
       "      <th>3</th>\n",
       "      <td>ABDIAS FELIPE FRANCO</td>\n",
       "      <td>AVANTE</td>\n",
       "      <td>103000.00</td>\n",
       "    </tr>\n",
       "    <tr>\n",
       "      <th>4</th>\n",
       "      <td>ABEL BICHESKI</td>\n",
       "      <td>SOLIDARIEDADE</td>\n",
       "      <td>40000.00</td>\n",
       "    </tr>\n",
       "  </tbody>\n",
       "</table>\n",
       "</div>"
      ],
      "text/plain": [
       "                 Nome candidato        Partido  Valor de receita\n",
       "0    LURDENIS DE ALENCAR VIEIRA         AVANTE         407500.00\n",
       "1          AAVA SANTIAGO AGUIAR           PSDB        1663431.98\n",
       "2  ABDIAS DE MELO TEIXEIRA NETO             PP         200000.00\n",
       "3          ABDIAS FELIPE FRANCO         AVANTE         103000.00\n",
       "4                 ABEL BICHESKI  SOLIDARIEDADE          40000.00"
      ]
     },
     "metadata": {},
     "output_type": "display_data"
    },
    {
     "data": {
      "text/plain": [
       "(9410, 3)"
      ]
     },
     "metadata": {},
     "output_type": "display_data"
    }
   ],
   "source": [
    "display(df_cand_revenues_total.head())\n",
    "display(df_cand_revenues_total.shape)"
   ]
  },
  {
   "cell_type": "code",
   "execution_count": 83,
   "metadata": {},
   "outputs": [
    {
     "data": {
      "text/html": [
       "<div>\n",
       "<style scoped>\n",
       "    .dataframe tbody tr th:only-of-type {\n",
       "        vertical-align: middle;\n",
       "    }\n",
       "\n",
       "    .dataframe tbody tr th {\n",
       "        vertical-align: top;\n",
       "    }\n",
       "\n",
       "    .dataframe thead th {\n",
       "        text-align: right;\n",
       "    }\n",
       "</style>\n",
       "<table border=\"1\" class=\"dataframe\">\n",
       "  <thead>\n",
       "    <tr style=\"text-align: right;\">\n",
       "      <th></th>\n",
       "      <th>SQ_PRESTADOR_CONTAS</th>\n",
       "      <th>VR_PAGTO_DESPESA</th>\n",
       "      <th>SQ_CANDIDATO</th>\n",
       "      <th>VR_DESPESA_CONTRATADA</th>\n",
       "    </tr>\n",
       "  </thead>\n",
       "  <tbody>\n",
       "    <tr>\n",
       "      <th>0</th>\n",
       "      <td>3720262448</td>\n",
       "      <td>1721.84</td>\n",
       "      <td>110001593944</td>\n",
       "      <td>1721.84</td>\n",
       "    </tr>\n",
       "    <tr>\n",
       "      <th>1</th>\n",
       "      <td>3720262449</td>\n",
       "      <td>4656.91</td>\n",
       "      <td>110001593945</td>\n",
       "      <td>4665.88</td>\n",
       "    </tr>\n",
       "    <tr>\n",
       "      <th>2</th>\n",
       "      <td>3720262603</td>\n",
       "      <td>4380.78</td>\n",
       "      <td>110001593943</td>\n",
       "      <td>4380.78</td>\n",
       "    </tr>\n",
       "    <tr>\n",
       "      <th>3</th>\n",
       "      <td>3720262604</td>\n",
       "      <td>3044.98</td>\n",
       "      <td>110001593946</td>\n",
       "      <td>3044.98</td>\n",
       "    </tr>\n",
       "    <tr>\n",
       "      <th>4</th>\n",
       "      <td>3720262625</td>\n",
       "      <td>16014.0</td>\n",
       "      <td>110001593947</td>\n",
       "      <td>16014.0</td>\n",
       "    </tr>\n",
       "  </tbody>\n",
       "</table>\n",
       "</div>"
      ],
      "text/plain": [
       "   SQ_PRESTADOR_CONTAS VR_PAGTO_DESPESA  SQ_CANDIDATO VR_DESPESA_CONTRATADA\n",
       "0           3720262448          1721.84  110001593944               1721.84\n",
       "1           3720262449          4656.91  110001593945               4665.88\n",
       "2           3720262603          4380.78  110001593943               4380.78\n",
       "3           3720262604          3044.98  110001593946               3044.98\n",
       "4           3720262625          16014.0  110001593947               16014.0"
      ]
     },
     "metadata": {},
     "output_type": "display_data"
    },
    {
     "data": {
      "text/plain": [
       "(9472, 4)"
      ]
     },
     "metadata": {},
     "output_type": "display_data"
    }
   ],
   "source": [
    "display(df_cand_expense_total.head())\n",
    "display(df_cand_expense_total.shape)"
   ]
  },
  {
   "cell_type": "code",
   "execution_count": 84,
   "metadata": {},
   "outputs": [
    {
     "data": {
      "text/plain": [
       "27          JECE LUIZ DA SILVA FERREIRA\n",
       "38            WILLIAN DOS SANTOS FRANCA\n",
       "64      EDNA APARECIDA NANTES DE CASTRO\n",
       "91           RAPHAEL LUIZ BASTOS JUNIOR\n",
       "129       CARLOS LEANDRO DA COSTA SOUSA\n",
       "                     ...               \n",
       "300      GLEYDSON RANYERE ALVES BARBOSA\n",
       "331          LUIS DA CONCEIÇÃO DA COSTA\n",
       "351    MISMA GONÇALVES FERREIRA BATISTA\n",
       "364           JOÃO PAULO LOPES DE SOUZA\n",
       "411                JOANYR SOARES ARAUJO\n",
       "Name: NM_CANDIDATO, Length: 1107, dtype: object"
      ]
     },
     "execution_count": 84,
     "metadata": {},
     "output_type": "execute_result"
    }
   ],
   "source": [
    "cands_wo_assets = df_cand_fed_dep[~df_cand_fed_dep[\"SQ_CANDIDATO\"].isin(df_cand_assets_total[\"SQ_CANDIDATO\"])][\"SQ_CANDIDATO\"]\n",
    "cands_wo_voting = df_cand_fed_dep[~df_cand_fed_dep[\"SQ_CANDIDATO\"].isin(df_cand_voting_total[\"SQ_CANDIDATO\"])][\"SQ_CANDIDATO\"]\n",
    "cands_wo_revenues = df_cand_fed_dep[~df_cand_fed_dep[\"NM_CANDIDATO\"].isin(df_cand_revenues_total[\"Nome candidato\"])][\"SQ_CANDIDATO\"]\n",
    "cands_wo_expense_paid = df_cand_fed_dep[~df_cand_fed_dep[\"SQ_CANDIDATO\"].isin(df_cand_expense_total[\"SQ_CANDIDATO\"])][\"SQ_CANDIDATO\"]\n",
    "\n",
    "df_cand_fed_dep[df_cand_fed_dep[\"SQ_CANDIDATO\"].isin(cands_wo_assets)][\"NM_CANDIDATO\"]\n",
    "df_cand_fed_dep[df_cand_fed_dep[\"SQ_CANDIDATO\"].isin(cands_wo_voting)][\"NM_CANDIDATO\"]\n",
    "df_cand_fed_dep[df_cand_fed_dep[\"SQ_CANDIDATO\"].isin(cands_wo_voting)][\"SG_UF\"]\n",
    "df_cand_fed_dep[df_cand_fed_dep[\"SQ_CANDIDATO\"].isin(cands_wo_voting)][\"SG_UF\"].nunique() == 1\n",
    "df_cand_fed_dep[df_cand_fed_dep[\"SQ_CANDIDATO\"].isin(cands_wo_revenues)][\"NM_CANDIDATO\"]"
   ]
  },
  {
   "cell_type": "code",
   "execution_count": 85,
   "metadata": {},
   "outputs": [
    {
     "data": {
      "text/plain": [
       "Index(['DT_GERACAO', 'HH_GERACAO', 'ANO_ELEICAO', 'CD_TIPO_ELEICAO',\n",
       "       'NM_TIPO_ELEICAO', 'NR_TURNO', 'CD_ELEICAO', 'DS_ELEICAO', 'DT_ELEICAO',\n",
       "       'TP_ABRANGENCIA', 'SG_UF', 'SG_UE', 'NM_UE', 'CD_CARGO', 'DS_CARGO',\n",
       "       'SQ_CANDIDATO', 'NR_CANDIDATO', 'NM_CANDIDATO', 'NM_URNA_CANDIDATO',\n",
       "       'NM_SOCIAL_CANDIDATO', 'NR_CPF_CANDIDATO', 'NM_EMAIL',\n",
       "       'CD_SITUACAO_CANDIDATURA', 'DS_SITUACAO_CANDIDATURA',\n",
       "       'CD_DETALHE_SITUACAO_CAND', 'DS_DETALHE_SITUACAO_CAND', 'TP_AGREMIACAO',\n",
       "       'NR_PARTIDO', 'SG_PARTIDO', 'NM_PARTIDO', 'NR_FEDERACAO',\n",
       "       'NM_FEDERACAO', 'SG_FEDERACAO', 'DS_COMPOSICAO_FEDERACAO',\n",
       "       'SQ_COLIGACAO', 'NM_COLIGACAO', 'DS_COMPOSICAO_COLIGACAO',\n",
       "       'CD_NACIONALIDADE', 'DS_NACIONALIDADE', 'SG_UF_NASCIMENTO',\n",
       "       'CD_MUNICIPIO_NASCIMENTO', 'NM_MUNICIPIO_NASCIMENTO', 'DT_NASCIMENTO',\n",
       "       'NR_IDADE_DATA_POSSE', 'NR_TITULO_ELEITORAL_CANDIDATO', 'CD_GENERO',\n",
       "       'DS_GENERO', 'CD_GRAU_INSTRUCAO', 'DS_GRAU_INSTRUCAO',\n",
       "       'CD_ESTADO_CIVIL', 'DS_ESTADO_CIVIL', 'CD_COR_RACA', 'DS_COR_RACA',\n",
       "       'CD_OCUPACAO', 'DS_OCUPACAO', 'VR_DESPESA_MAX_CAMPANHA',\n",
       "       'CD_SIT_TOT_TURNO', 'DS_SIT_TOT_TURNO_x', 'ST_REELEICAO',\n",
       "       'ST_DECLARAR_BENS', 'NR_PROTOCOLO_CANDIDATURA', 'NR_PROCESSO',\n",
       "       'CD_SITUACAO_CANDIDATO_PLEITO', 'DS_SITUACAO_CANDIDATO_PLEITO',\n",
       "       'CD_SITUACAO_CANDIDATO_URNA', 'DS_SITUACAO_CANDIDATO_URNA',\n",
       "       'ST_CANDIDATO_INSERIDO_URNA', 'NM_TIPO_DESTINACAO_VOTOS',\n",
       "       'CD_SITUACAO_CANDIDATO_TOT', 'DS_SITUACAO_CANDIDATO_TOT',\n",
       "       'ST_PREST_CONTAS', 'VR_BEM_CANDIDATO', 'DS_SIT_TOT_TURNO_y',\n",
       "       'QT_VOTOS_NOMINAIS_VALIDOS', 'Valor de receita', 'SQ_PRESTADOR_CONTAS',\n",
       "       'VR_PAGTO_DESPESA', 'VR_DESPESA_CONTRATADA'],\n",
       "      dtype='object')"
      ]
     },
     "execution_count": 85,
     "metadata": {},
     "output_type": "execute_result"
    }
   ],
   "source": [
    "df_complete = pd.DataFrame()\n",
    "df_complete = pd.merge(df_cand_fed_dep, df_cand_assets_total, on=\"SQ_CANDIDATO\", how=\"left\")\n",
    "df_complete = pd.merge(df_complete, df_cand_voting_total, on=\"SQ_CANDIDATO\", how=\"left\")\n",
    "df_complete = pd.merge(df_complete, df_cand_revenues_total, left_on=[\"NM_CANDIDATO\", \"SG_PARTIDO\"],\n",
    "                            right_on=[\"Nome candidato\", \"Partido\"], how=\"left\")\n",
    "df_complete = pd.merge(df_complete, df_cand_expense_total, on=\"SQ_CANDIDATO\", how=\"left\")\n",
    "df_complete = df_complete.drop([\"Nome candidato\", \"Partido\"], axis=1)\n",
    "df_complete.columns"
   ]
  },
  {
   "cell_type": "code",
   "execution_count": 86,
   "metadata": {},
   "outputs": [
    {
     "data": {
      "text/plain": [
       "False    9246\n",
       "True      284\n",
       "Name: count, dtype: int64"
      ]
     },
     "execution_count": 86,
     "metadata": {},
     "output_type": "execute_result"
    }
   ],
   "source": [
    "elected = df_complete[\"DS_SIT_TOT_TURNO_y\"].str.contains(r\"ELEITO .*\")\n",
    "elected.value_counts()\n",
    "(df_complete[\"DS_SIT_TOT_TURNO_y\"].str.contains(r\"ELEITO .*\") & (df_complete[\"ST_REELEICAO\"] == \"S\")).value_counts()\n"
   ]
  },
  {
   "cell_type": "code",
   "execution_count": 87,
   "metadata": {},
   "outputs": [],
   "source": [
    "def plot_barh_comp(data1, data2, title, xlabel, ylabel, size=(10, 10)):    \n",
    "    plt.figure(figsize=size)\n",
    "    plt.title(title)\n",
    "    plt.xlabel(xlabel)\n",
    "    plt.ylabel(ylabel)\n",
    "    plt.barh(data1.index, data1.values, color=\"salmon\")\n",
    "    plt.barh(data2.index, data2.values, color=\"mediumpurple\")\n",
    "\n",
    "    for index, value in zip(data1.index, data1.values):\n",
    "        plt.text(value, index, f\"{value}\", va=\"top\", ha=\"left\", fontsize=10, color=\"k\")\n",
    "\n",
    "    for index, value in zip(data2.index, data2.values):\n",
    "        plt.text(value, index, f\"{value}\", va=\"center\", ha=\"left\", fontsize=10, color=\"k\")\n"
   ]
  },
  {
   "cell_type": "code",
   "execution_count": 88,
   "metadata": {},
   "outputs": [
    {
     "data": {
      "image/png": "[encoded data removed]",
      "text/plain": [
       "<Figure size 1000x1000 with 1 Axes>"
      ]
     },
     "metadata": {},
     "output_type": "display_data"
    }
   ],
   "source": [
    "dep_parties = df_complete[\"SG_PARTIDO\"].value_counts().sort_values()\n",
    "dep_elected = df_complete[df_complete[\"DS_SIT_TOT_TURNO_y\"].str.contains(r\"ELEITO .*\")]\n",
    "dep_elected_by_party = dep_elected.groupby(\"SG_PARTIDO\").size().sort_values()\n",
    "\n",
    "plot_barh_comp(dep_parties, dep_elected_by_party, \"Número de candidatos e eleitos por partido\",\n",
    "               \"Número de candidatos\", \"Partidos\")"
   ]
  },
  {
   "cell_type": "code",
   "execution_count": 89,
   "metadata": {},
   "outputs": [],
   "source": [
    "def plot_barh_prop(data, title, xlabel, ylabel, size=(10, 10)):\n",
    "    plt.figure(figsize=size)\n",
    "    plt.title(title)\n",
    "    plt.xlabel(xlabel)\n",
    "    plt.ylabel(ylabel)\n",
    "    plt.barh(data.index, 1, color=\"salmon\")\n",
    "    plt.barh(data.index, data.values, color=\"mediumpurple\")\n",
    "\n",
    "    for index, prop in zip(data.index, data.values):\n",
    "        plt.text(prop, index, f\"{(prop*100):.1f}%\", va=\"center\", ha=\"left\", fontsize=10, color=\"k\")"
   ]
  },
  {
   "cell_type": "code",
   "execution_count": 90,
   "metadata": {},
   "outputs": [
    {
     "data": {
      "image/png": "[encoded data removed]",
      "text/plain": [
       "<Figure size 1000x1000 with 1 Axes>"
      ]
     },
     "metadata": {},
     "output_type": "display_data"
    }
   ],
   "source": [
    "prop_elected_by_party = dep_elected_by_party / dep_parties\n",
    "prop_elected_by_party = prop_elected_by_party.dropna().sort_values()\n",
    "\n",
    "plot_barh_prop(prop_elected_by_party, \"Proporção de candidatos eleitos por partido\",\n",
    "               \"Proporção de candidatos eleitos\", \"Partidos\")"
   ]
  },
  {
   "cell_type": "code",
   "execution_count": 91,
   "metadata": {},
   "outputs": [
    {
     "data": {
      "image/png": "[encoded data removed]",
      "text/plain": [
       "<Figure size 1000x1000 with 1 Axes>"
      ]
     },
     "metadata": {},
     "output_type": "display_data"
    }
   ],
   "source": [
    "prop_elected_by_party = dep_elected_by_party / len(dep_elected)\n",
    "prop_elected_by_party = prop_elected_by_party.dropna().sort_values()\n",
    "plot_barh_prop(prop_elected_by_party, \"Composição da Câmara por Partido\",\n",
    "               \"Proporção de candidatos eleitos por partido\", \"Partidos\")"
   ]
  },
  {
   "cell_type": "code",
   "execution_count": 92,
   "metadata": {},
   "outputs": [],
   "source": [
    "def plot_barh(data, title, xlabel, ylabel, size=(10, 10), color=\"salmon\"):\n",
    "    plt.figure(figsize=size)\n",
    "    plt.title(title)\n",
    "    plt.xlabel(xlabel)\n",
    "    plt.ylabel(ylabel)\n",
    "    plt.barh(data.index, data.values, color=color)\n",
    "\n",
    "    for index, value in zip(data.index, data.values):\n",
    "        plt.text(value, index, f\"{value}\", va=\"center\", ha=\"left\", fontsize=10, color=\"k\")"
   ]
  },
  {
   "cell_type": "code",
   "execution_count": 93,
   "metadata": {},
   "outputs": [
    {
     "data": {
      "image/png": "[encoded data removed]",
      "text/plain": [
       "<Figure size 1000x1000 with 1 Axes>"
      ]
     },
     "metadata": {},
     "output_type": "display_data"
    }
   ],
   "source": [
    "dep_birth = df_complete[\"SG_UF_NASCIMENTO\"].value_counts().sort_values()\n",
    "plot_barh(dep_birth, \"UF de nascimento dos candidatos\", \"Número de candidatos\", \"UF\", (10, 10), \"salmon\")"
   ]
  },
  {
   "cell_type": "code",
   "execution_count": 94,
   "metadata": {},
   "outputs": [],
   "source": [
    "def plot_pie(data, title, labels=\"\", autopct=\"\", size=(10, 6)):\n",
    "    plt.figure(figsize=(size))\n",
    "    plt.title(title)\n",
    "    plt.pie(data, autopct=autopct, startangle=90, pctdistance=1.2)\n",
    "    plt.legend(labels=labels)"
   ]
  },
  {
   "cell_type": "code",
   "execution_count": 95,
   "metadata": {},
   "outputs": [
    {
     "data": {
      "image/png": "[encoded data removed]",
      "text/plain": [
       "<Figure size 1000x500 with 1 Axes>"
      ]
     },
     "metadata": {},
     "output_type": "display_data"
    }
   ],
   "source": [
    "dep_gender = df_complete[\"DS_GENERO\"].value_counts().sort_values()\n",
    "dep_gender_elected = dep_elected[\"DS_GENERO\"].value_counts().sort_values()\n",
    "plot_barh_comp(dep_gender, dep_gender_elected, \"Candidatos(as) por gênero\", \n",
    "               \"Número de candidatos(as)\", \"Gênero\", (10, 5))"
   ]
  },
  {
   "cell_type": "code",
   "execution_count": 96,
   "metadata": {},
   "outputs": [
    {
     "data": {
      "image/png": "[encoded data removed]",
      "text/plain": [
       "<Figure size 1000x1000 with 1 Axes>"
      ]
     },
     "metadata": {},
     "output_type": "display_data"
    }
   ],
   "source": [
    "dep_gender_prop = (dep_gender_elected / len(dep_elected)).sort_values()\n",
    "plot_barh_prop(dep_gender_prop, \"Composição da Câmara por Homens e Mulheres Eleitos(as)\",\n",
    "               \"Proporção de candidatos(as) eleitos(as)\", \"Gênero\")"
   ]
  },
  {
   "cell_type": "code",
   "execution_count": 97,
   "metadata": {},
   "outputs": [
    {
     "data": {
      "image/png": "[encoded data removed]",
      "text/plain": [
       "<Figure size 1200x800 with 1 Axes>"
      ]
     },
     "metadata": {},
     "output_type": "display_data"
    }
   ],
   "source": [
    "dep_education = df_complete[\"DS_GRAU_INSTRUCAO\"].value_counts().sort_values()\n",
    "dep_edu_elected = dep_elected[\"DS_GRAU_INSTRUCAO\"].value_counts().sort_values()\n",
    "plot_barh_comp(dep_education, dep_edu_elected, \"Grau de instrução dos(as) candidatos(as)\",\n",
    "               \"Número de candidatos(as)\", \"Grau de instrução\", (12, 8))"
   ]
  },
  {
   "cell_type": "code",
   "execution_count": 98,
   "metadata": {},
   "outputs": [
    {
     "data": {
      "image/png": "[encoded data removed]",
      "text/plain": [
       "<Figure size 1200x800 with 1 Axes>"
      ]
     },
     "metadata": {},
     "output_type": "display_data"
    }
   ],
   "source": [
    "dep_education_prop = dep_edu_elected / len(dep_elected)\n",
    "dep_education_prop = dep_education_prop.dropna().sort_values()\n",
    "plot_barh_prop(dep_education_prop, \"Composição da Câmara por Grau de Instrução dos(as) Eleitos(as)\", \n",
    "               \"Proporção de candidatos(as) eleitos(as)\", \"Grau de instrução\", (12, 8))"
   ]
  },
  {
   "cell_type": "code",
   "execution_count": 99,
   "metadata": {},
   "outputs": [
    {
     "data": {
      "image/png": "[encoded data removed]",
      "text/plain": [
       "<Figure size 1000x1000 with 1 Axes>"
      ]
     },
     "metadata": {},
     "output_type": "display_data"
    }
   ],
   "source": [
    "dep_marital_status = df_complete[\"DS_ESTADO_CIVIL\"].value_counts().sort_values()\n",
    "dep_marital_elected = dep_elected[\"DS_ESTADO_CIVIL\"].value_counts().sort_values()\n",
    "plot_barh_comp(dep_marital_status, dep_marital_elected, \"Estado Civil dos(as) Candidatos(as)\",\n",
    "               \"Número de candidatos(as)\", \"Estado civil\")"
   ]
  },
  {
   "cell_type": "code",
   "execution_count": 100,
   "metadata": {},
   "outputs": [
    {
     "data": {
      "image/png": "[encoded data removed]",
      "text/plain": [
       "<Figure size 1000x1000 with 1 Axes>"
      ]
     },
     "metadata": {},
     "output_type": "display_data"
    }
   ],
   "source": [
    "dep_marital_prop = dep_marital_elected / len(dep_elected)\n",
    "plot_barh_prop(dep_marital_prop, \"Composição da Câmara por Estado Civil\",\n",
    "               \"Proporção de candidatos(as) eleitos(as)\", \"Estado civil\")\n"
   ]
  },
  {
   "cell_type": "code",
   "execution_count": 101,
   "metadata": {},
   "outputs": [
    {
     "data": {
      "image/png": "[encoded data removed]",
      "text/plain": [
       "<Figure size 1000x1000 with 1 Axes>"
      ]
     },
     "metadata": {},
     "output_type": "display_data"
    }
   ],
   "source": [
    "dep_color = df_complete[\"DS_COR_RACA\"].value_counts().sort_values()\n",
    "dep_color_elected = dep_elected[\"DS_COR_RACA\"].value_counts().sort_values()\n",
    "plot_barh_comp(dep_color, dep_color_elected, \"Cor dos(as) candidatos(as)\", \"Número de candidatos(as)\",\n",
    "               \"Cor\")"
   ]
  },
  {
   "cell_type": "code",
   "execution_count": 102,
   "metadata": {},
   "outputs": [
    {
     "data": {
      "application/vnd.plotly.v1+json": {
       "config": {
        "plotlyServerURL": "https://plot.ly"
       },
       "data": [
        {
         "domain": {
          "x": [
           0,
           1
          ],
          "y": [
           0,
           1
          ]
         },
         "hovertemplate": "DS_COR_RACA=%{label}<br>value=%{value}<extra></extra>",
         "labels": [
          "AMARELA",
          "INDÍGENA",
          "NÃO INFORMADO",
          "PRETA",
          "PARDA",
          "BRANCA"
         ],
         "legendgroup": "",
         "name": "",
         "showlegend": true,
         "type": "pie",
         "values": [
          39,
          52,
          56,
          1329,
          3225,
          4829
         ]
        }
       ],
       "layout": {
        "legend": {
         "tracegroupgap": 0
        },
        "margin": {
         "t": 60
        },
        "template": {
         "data": {
          "bar": [
           {
            "error_x": {
             "color": "#2a3f5f"
            },
            "error_y": {
             "color": "#2a3f5f"
            },
            "marker": {
             "line": {
              "color": "#E5ECF6",
              "width": 0.5
             },
             "pattern": {
              "fillmode": "overlay",
              "size": 10,
              "solidity": 0.2
             }
            },
            "type": "bar"
           }
          ],
          "barpolar": [
           {
            "marker": {
             "line": {
              "color": "#E5ECF6",
              "width": 0.5
             },
             "pattern": {
              "fillmode": "overlay",
              "size": 10,
              "solidity": 0.2
             }
            },
            "type": "barpolar"
           }
          ],
          "carpet": [
           {
            "aaxis": {
             "endlinecolor": "#2a3f5f",
             "gridcolor": "white",
             "linecolor": "white",
             "minorgridcolor": "white",
             "startlinecolor": "#2a3f5f"
            },
            "baxis": {
             "endlinecolor": "#2a3f5f",
             "gridcolor": "white",
             "linecolor": "white",
             "minorgridcolor": "white",
             "startlinecolor": "#2a3f5f"
            },
            "type": "carpet"
           }
          ],
          "choropleth": [
           {
            "colorbar": {
             "outlinewidth": 0,
             "ticks": ""
            },
            "type": "choropleth"
           }
          ],
          "contour": [
           {
            "colorbar": {
             "outlinewidth": 0,
             "ticks": ""
            },
            "colorscale": [
             [
              0,
              "#0d0887"
             ],
             [
              0.1111111111111111,
              "#46039f"
             ],
             [
              0.2222222222222222,
              "#7201a8"
             ],
             [
              0.3333333333333333,
              "#9c179e"
             ],
             [
              0.4444444444444444,
              "#bd3786"
             ],
             [
              0.5555555555555556,
              "#d8576b"
             ],
             [
              0.6666666666666666,
              "#ed7953"
             ],
             [
              0.7777777777777778,
              "#fb9f3a"
             ],
             [
              0.8888888888888888,
              "#fdca26"
             ],
             [
              1,
              "#f0f921"
             ]
            ],
            "type": "contour"
           }
          ],
          "contourcarpet": [
           {
            "colorbar": {
             "outlinewidth": 0,
             "ticks": ""
            },
            "type": "contourcarpet"
           }
          ],
          "heatmap": [
           {
            "colorbar": {
             "outlinewidth": 0,
             "ticks": ""
            },
            "colorscale": [
             [
              0,
              "#0d0887"
             ],
             [
              0.1111111111111111,
              "#46039f"
             ],
             [
              0.2222222222222222,
              "#7201a8"
             ],
             [
              0.3333333333333333,
              "#9c179e"
             ],
             [
              0.4444444444444444,
              "#bd3786"
             ],
             [
              0.5555555555555556,
              "#d8576b"
             ],
             [
              0.6666666666666666,
              "#ed7953"
             ],
             [
              0.7777777777777778,
              "#fb9f3a"
             ],
             [
              0.8888888888888888,
              "#fdca26"
             ],
             [
              1,
              "#f0f921"
             ]
            ],
            "type": "heatmap"
           }
          ],
          "heatmapgl": [
           {
            "colorbar": {
             "outlinewidth": 0,
             "ticks": ""
            },
            "colorscale": [
             [
              0,
              "#0d0887"
             ],
             [
              0.1111111111111111,
              "#46039f"
             ],
             [
              0.2222222222222222,
              "#7201a8"
             ],
             [
              0.3333333333333333,
              "#9c179e"
             ],
             [
              0.4444444444444444,
              "#bd3786"
             ],
             [
              0.5555555555555556,
              "#d8576b"
             ],
             [
              0.6666666666666666,
              "#ed7953"
             ],
             [
              0.7777777777777778,
              "#fb9f3a"
             ],
             [
              0.8888888888888888,
              "#fdca26"
             ],
             [
              1,
              "#f0f921"
             ]
            ],
            "type": "heatmapgl"
           }
          ],
          "histogram": [
           {
            "marker": {
             "pattern": {
              "fillmode": "overlay",
              "size": 10,
              "solidity": 0.2
             }
            },
            "type": "histogram"
           }
          ],
          "histogram2d": [
           {
            "colorbar": {
             "outlinewidth": 0,
             "ticks": ""
            },
            "colorscale": [
             [
              0,
              "#0d0887"
             ],
             [
              0.1111111111111111,
              "#46039f"
             ],
             [
              0.2222222222222222,
              "#7201a8"
             ],
             [
              0.3333333333333333,
              "#9c179e"
             ],
             [
              0.4444444444444444,
              "#bd3786"
             ],
             [
              0.5555555555555556,
              "#d8576b"
             ],
             [
              0.6666666666666666,
              "#ed7953"
             ],
             [
              0.7777777777777778,
              "#fb9f3a"
             ],
             [
              0.8888888888888888,
              "#fdca26"
             ],
             [
              1,
              "#f0f921"
             ]
            ],
            "type": "histogram2d"
           }
          ],
          "histogram2dcontour": [
           {
            "colorbar": {
             "outlinewidth": 0,
             "ticks": ""
            },
            "colorscale": [
             [
              0,
              "#0d0887"
             ],
             [
              0.1111111111111111,
              "#46039f"
             ],
             [
              0.2222222222222222,
              "#7201a8"
             ],
             [
              0.3333333333333333,
              "#9c179e"
             ],
             [
              0.4444444444444444,
              "#bd3786"
             ],
             [
              0.5555555555555556,
              "#d8576b"
             ],
             [
              0.6666666666666666,
              "#ed7953"
             ],
             [
              0.7777777777777778,
              "#fb9f3a"
             ],
             [
              0.8888888888888888,
              "#fdca26"
             ],
             [
              1,
              "#f0f921"
             ]
            ],
            "type": "histogram2dcontour"
           }
          ],
          "mesh3d": [
           {
            "colorbar": {
             "outlinewidth": 0,
             "ticks": ""
            },
            "type": "mesh3d"
           }
          ],
          "parcoords": [
           {
            "line": {
             "colorbar": {
              "outlinewidth": 0,
              "ticks": ""
             }
            },
            "type": "parcoords"
           }
          ],
          "pie": [
           {
            "automargin": true,
            "type": "pie"
           }
          ],
          "scatter": [
           {
            "fillpattern": {
             "fillmode": "overlay",
             "size": 10,
             "solidity": 0.2
            },
            "type": "scatter"
           }
          ],
          "scatter3d": [
           {
            "line": {
             "colorbar": {
              "outlinewidth": 0,
              "ticks": ""
             }
            },
            "marker": {
             "colorbar": {
              "outlinewidth": 0,
              "ticks": ""
             }
            },
            "type": "scatter3d"
           }
          ],
          "scattercarpet": [
           {
            "marker": {
             "colorbar": {
              "outlinewidth": 0,
              "ticks": ""
             }
            },
            "type": "scattercarpet"
           }
          ],
          "scattergeo": [
           {
            "marker": {
             "colorbar": {
              "outlinewidth": 0,
              "ticks": ""
             }
            },
            "type": "scattergeo"
           }
          ],
          "scattergl": [
           {
            "marker": {
             "colorbar": {
              "outlinewidth": 0,
              "ticks": ""
             }
            },
            "type": "scattergl"
           }
          ],
          "scattermapbox": [
           {
            "marker": {
             "colorbar": {
              "outlinewidth": 0,
              "ticks": ""
             }
            },
            "type": "scattermapbox"
           }
          ],
          "scatterpolar": [
           {
            "marker": {
             "colorbar": {
              "outlinewidth": 0,
              "ticks": ""
             }
            },
            "type": "scatterpolar"
           }
          ],
          "scatterpolargl": [
           {
            "marker": {
             "colorbar": {
              "outlinewidth": 0,
              "ticks": ""
             }
            },
            "type": "scatterpolargl"
           }
          ],
          "scatterternary": [
           {
            "marker": {
             "colorbar": {
              "outlinewidth": 0,
              "ticks": ""
             }
            },
            "type": "scatterternary"
           }
          ],
          "surface": [
           {
            "colorbar": {
             "outlinewidth": 0,
             "ticks": ""
            },
            "colorscale": [
             [
              0,
              "#0d0887"
             ],
             [
              0.1111111111111111,
              "#46039f"
             ],
             [
              0.2222222222222222,
              "#7201a8"
             ],
             [
              0.3333333333333333,
              "#9c179e"
             ],
             [
              0.4444444444444444,
              "#bd3786"
             ],
             [
              0.5555555555555556,
              "#d8576b"
             ],
             [
              0.6666666666666666,
              "#ed7953"
             ],
             [
              0.7777777777777778,
              "#fb9f3a"
             ],
             [
              0.8888888888888888,
              "#fdca26"
             ],
             [
              1,
              "#f0f921"
             ]
            ],
            "type": "surface"
           }
          ],
          "table": [
           {
            "cells": {
             "fill": {
              "color": "#EBF0F8"
             },
             "line": {
              "color": "white"
             }
            },
            "header": {
             "fill": {
              "color": "#C8D4E3"
             },
             "line": {
              "color": "white"
             }
            },
            "type": "table"
           }
          ]
         },
         "layout": {
          "annotationdefaults": {
           "arrowcolor": "#2a3f5f",
           "arrowhead": 0,
           "arrowwidth": 1
          },
          "autotypenumbers": "strict",
          "coloraxis": {
           "colorbar": {
            "outlinewidth": 0,
            "ticks": ""
           }
          },
          "colorscale": {
           "diverging": [
            [
             0,
             "#8e0152"
            ],
            [
             0.1,
             "#c51b7d"
            ],
            [
             0.2,
             "#de77ae"
            ],
            [
             0.3,
             "#f1b6da"
            ],
            [
             0.4,
             "#fde0ef"
            ],
            [
             0.5,
             "#f7f7f7"
            ],
            [
             0.6,
             "#e6f5d0"
            ],
            [
             0.7,
             "#b8e186"
            ],
            [
             0.8,
             "#7fbc41"
            ],
            [
             0.9,
             "#4d9221"
            ],
            [
             1,
             "#276419"
            ]
           ],
           "sequential": [
            [
             0,
             "#0d0887"
            ],
            [
             0.1111111111111111,
             "#46039f"
            ],
            [
             0.2222222222222222,
             "#7201a8"
            ],
            [
             0.3333333333333333,
             "#9c179e"
            ],
            [
             0.4444444444444444,
             "#bd3786"
            ],
            [
             0.5555555555555556,
             "#d8576b"
            ],
            [
             0.6666666666666666,
             "#ed7953"
            ],
            [
             0.7777777777777778,
             "#fb9f3a"
            ],
            [
             0.8888888888888888,
             "#fdca26"
            ],
            [
             1,
             "#f0f921"
            ]
           ],
           "sequentialminus": [
            [
             0,
             "#0d0887"
            ],
            [
             0.1111111111111111,
             "#46039f"
            ],
            [
             0.2222222222222222,
             "#7201a8"
            ],
            [
             0.3333333333333333,
             "#9c179e"
            ],
            [
             0.4444444444444444,
             "#bd3786"
            ],
            [
             0.5555555555555556,
             "#d8576b"
            ],
            [
             0.6666666666666666,
             "#ed7953"
            ],
            [
             0.7777777777777778,
             "#fb9f3a"
            ],
            [
             0.8888888888888888,
             "#fdca26"
            ],
            [
             1,
             "#f0f921"
            ]
           ]
          },
          "colorway": [
           "#636efa",
           "#EF553B",
           "#00cc96",
           "#ab63fa",
           "#FFA15A",
           "#19d3f3",
           "#FF6692",
           "#B6E880",
           "#FF97FF",
           "#FECB52"
          ],
          "font": {
           "color": "#2a3f5f"
          },
          "geo": {
           "bgcolor": "white",
           "lakecolor": "white",
           "landcolor": "#E5ECF6",
           "showlakes": true,
           "showland": true,
           "subunitcolor": "white"
          },
          "hoverlabel": {
           "align": "left"
          },
          "hovermode": "closest",
          "mapbox": {
           "style": "light"
          },
          "paper_bgcolor": "white",
          "plot_bgcolor": "#E5ECF6",
          "polar": {
           "angularaxis": {
            "gridcolor": "white",
            "linecolor": "white",
            "ticks": ""
           },
           "bgcolor": "#E5ECF6",
           "radialaxis": {
            "gridcolor": "white",
            "linecolor": "white",
            "ticks": ""
           }
          },
          "scene": {
           "xaxis": {
            "backgroundcolor": "#E5ECF6",
            "gridcolor": "white",
            "gridwidth": 2,
            "linecolor": "white",
            "showbackground": true,
            "ticks": "",
            "zerolinecolor": "white"
           },
           "yaxis": {
            "backgroundcolor": "#E5ECF6",
            "gridcolor": "white",
            "gridwidth": 2,
            "linecolor": "white",
            "showbackground": true,
            "ticks": "",
            "zerolinecolor": "white"
           },
           "zaxis": {
            "backgroundcolor": "#E5ECF6",
            "gridcolor": "white",
            "gridwidth": 2,
            "linecolor": "white",
            "showbackground": true,
            "ticks": "",
            "zerolinecolor": "white"
           }
          },
          "shapedefaults": {
           "line": {
            "color": "#2a3f5f"
           }
          },
          "ternary": {
           "aaxis": {
            "gridcolor": "white",
            "linecolor": "white",
            "ticks": ""
           },
           "baxis": {
            "gridcolor": "white",
            "linecolor": "white",
            "ticks": ""
           },
           "bgcolor": "#E5ECF6",
           "caxis": {
            "gridcolor": "white",
            "linecolor": "white",
            "ticks": ""
           }
          },
          "title": {
           "x": 0.05
          },
          "xaxis": {
           "automargin": true,
           "gridcolor": "white",
           "linecolor": "white",
           "ticks": "",
           "title": {
            "standoff": 15
           },
           "zerolinecolor": "white",
           "zerolinewidth": 2
          },
          "yaxis": {
           "automargin": true,
           "gridcolor": "white",
           "linecolor": "white",
           "ticks": "",
           "title": {
            "standoff": 15
           },
           "zerolinecolor": "white",
           "zerolinewidth": 2
          }
         }
        }
       }
      }
     },
     "metadata": {},
     "output_type": "display_data"
    }
   ],
   "source": [
    "# dep_color_prop = dep_color_elected / len(dep_elected)\n",
    "# plot_barh_prop(dep_color_prop, \"Composição da Câmara por Cor\", \"Proporção de eleitos(as)\",\n",
    "#                \"Cor\")\n",
    "\n",
    "px.pie(dep_color, values=dep_color.values, names=dep_color.index)"
   ]
  },
  {
   "cell_type": "code",
   "execution_count": 103,
   "metadata": {},
   "outputs": [
    {
     "data": {
      "application/vnd.plotly.v1+json": {
       "config": {
        "plotlyServerURL": "https://plot.ly"
       },
       "data": [
        {
         "alignmentgroup": "True",
         "hovertemplate": "x=%{x}<br>y=%{y}<extra></extra>",
         "legendgroup": "",
         "marker": {
          "color": "#636efa",
          "pattern": {
           "shape": ""
          }
         },
         "name": "",
         "offsetgroup": "",
         "orientation": "h",
         "showlegend": false,
         "textposition": "auto",
         "type": "bar",
         "x": [
          3598,
          16518,
          48495,
          64250,
          73441,
          86594,
          145728,
          240563,
          277667,
          761451,
          787849,
          902212,
          1104941,
          1213753,
          1367536,
          1494232,
          1558459,
          1663143,
          1895660,
          2156992,
          3154895,
          3515491,
          3534306,
          3775574,
          4027872,
          7494948,
          7760260,
          8094289,
          8497158,
          10043627,
          11972890,
          17459905
         ],
         "xaxis": "x",
         "y": [
          "PCO",
          "PSTU",
          "UP",
          "PCB",
          "PMB",
          "DC",
          "AGIR",
          "PMN",
          "PRTB",
          "REDE",
          "PROS",
          "PV",
          "PC do B",
          "NOVO",
          "PTB",
          "PATRIOTA",
          "CIDADANIA",
          "SOLIDARIEDADE",
          "PSC",
          "AVANTE",
          "PSDB",
          "PDT",
          "PODE",
          "PSOL",
          "PSB",
          "REPUBLICANOS",
          "MDB",
          "PSD",
          "PP",
          "UNIÃO",
          "PT",
          "PL"
         ],
         "yaxis": "y"
        }
       ],
       "layout": {
        "barmode": "relative",
        "height": 1000,
        "legend": {
         "tracegroupgap": 0
        },
        "template": {
         "data": {
          "bar": [
           {
            "error_x": {
             "color": "#2a3f5f"
            },
            "error_y": {
             "color": "#2a3f5f"
            },
            "marker": {
             "line": {
              "color": "#E5ECF6",
              "width": 0.5
             },
             "pattern": {
              "fillmode": "overlay",
              "size": 10,
              "solidity": 0.2
             }
            },
            "type": "bar"
           }
          ],
          "barpolar": [
           {
            "marker": {
             "line": {
              "color": "#E5ECF6",
              "width": 0.5
             },
             "pattern": {
              "fillmode": "overlay",
              "size": 10,
              "solidity": 0.2
             }
            },
            "type": "barpolar"
           }
          ],
          "carpet": [
           {
            "aaxis": {
             "endlinecolor": "#2a3f5f",
             "gridcolor": "white",
             "linecolor": "white",
             "minorgridcolor": "white",
             "startlinecolor": "#2a3f5f"
            },
            "baxis": {
             "endlinecolor": "#2a3f5f",
             "gridcolor": "white",
             "linecolor": "white",
             "minorgridcolor": "white",
             "startlinecolor": "#2a3f5f"
            },
            "type": "carpet"
           }
          ],
          "choropleth": [
           {
            "colorbar": {
             "outlinewidth": 0,
             "ticks": ""
            },
            "type": "choropleth"
           }
          ],
          "contour": [
           {
            "colorbar": {
             "outlinewidth": 0,
             "ticks": ""
            },
            "colorscale": [
             [
              0,
              "#0d0887"
             ],
             [
              0.1111111111111111,
              "#46039f"
             ],
             [
              0.2222222222222222,
              "#7201a8"
             ],
             [
              0.3333333333333333,
              "#9c179e"
             ],
             [
              0.4444444444444444,
              "#bd3786"
             ],
             [
              0.5555555555555556,
              "#d8576b"
             ],
             [
              0.6666666666666666,
              "#ed7953"
             ],
             [
              0.7777777777777778,
              "#fb9f3a"
             ],
             [
              0.8888888888888888,
              "#fdca26"
             ],
             [
              1,
              "#f0f921"
             ]
            ],
            "type": "contour"
           }
          ],
          "contourcarpet": [
           {
            "colorbar": {
             "outlinewidth": 0,
             "ticks": ""
            },
            "type": "contourcarpet"
           }
          ],
          "heatmap": [
           {
            "colorbar": {
             "outlinewidth": 0,
             "ticks": ""
            },
            "colorscale": [
             [
              0,
              "#0d0887"
             ],
             [
              0.1111111111111111,
              "#46039f"
             ],
             [
              0.2222222222222222,
              "#7201a8"
             ],
             [
              0.3333333333333333,
              "#9c179e"
             ],
             [
              0.4444444444444444,
              "#bd3786"
             ],
             [
              0.5555555555555556,
              "#d8576b"
             ],
             [
              0.6666666666666666,
              "#ed7953"
             ],
             [
              0.7777777777777778,
              "#fb9f3a"
             ],
             [
              0.8888888888888888,
              "#fdca26"
             ],
             [
              1,
              "#f0f921"
             ]
            ],
            "type": "heatmap"
           }
          ],
          "heatmapgl": [
           {
            "colorbar": {
             "outlinewidth": 0,
             "ticks": ""
            },
            "colorscale": [
             [
              0,
              "#0d0887"
             ],
             [
              0.1111111111111111,
              "#46039f"
             ],
             [
              0.2222222222222222,
              "#7201a8"
             ],
             [
              0.3333333333333333,
              "#9c179e"
             ],
             [
              0.4444444444444444,
              "#bd3786"
             ],
             [
              0.5555555555555556,
              "#d8576b"
             ],
             [
              0.6666666666666666,
              "#ed7953"
             ],
             [
              0.7777777777777778,
              "#fb9f3a"
             ],
             [
              0.8888888888888888,
              "#fdca26"
             ],
             [
              1,
              "#f0f921"
             ]
            ],
            "type": "heatmapgl"
           }
          ],
          "histogram": [
           {
            "marker": {
             "pattern": {
              "fillmode": "overlay",
              "size": 10,
              "solidity": 0.2
             }
            },
            "type": "histogram"
           }
          ],
          "histogram2d": [
           {
            "colorbar": {
             "outlinewidth": 0,
             "ticks": ""
            },
            "colorscale": [
             [
              0,
              "#0d0887"
             ],
             [
              0.1111111111111111,
              "#46039f"
             ],
             [
              0.2222222222222222,
              "#7201a8"
             ],
             [
              0.3333333333333333,
              "#9c179e"
             ],
             [
              0.4444444444444444,
              "#bd3786"
             ],
             [
              0.5555555555555556,
              "#d8576b"
             ],
             [
              0.6666666666666666,
              "#ed7953"
             ],
             [
              0.7777777777777778,
              "#fb9f3a"
             ],
             [
              0.8888888888888888,
              "#fdca26"
             ],
             [
              1,
              "#f0f921"
             ]
            ],
            "type": "histogram2d"
           }
          ],
          "histogram2dcontour": [
           {
            "colorbar": {
             "outlinewidth": 0,
             "ticks": ""
            },
            "colorscale": [
             [
              0,
              "#0d0887"
             ],
             [
              0.1111111111111111,
              "#46039f"
             ],
             [
              0.2222222222222222,
              "#7201a8"
             ],
             [
              0.3333333333333333,
              "#9c179e"
             ],
             [
              0.4444444444444444,
              "#bd3786"
             ],
             [
              0.5555555555555556,
              "#d8576b"
             ],
             [
              0.6666666666666666,
              "#ed7953"
             ],
             [
              0.7777777777777778,
              "#fb9f3a"
             ],
             [
              0.8888888888888888,
              "#fdca26"
             ],
             [
              1,
              "#f0f921"
             ]
            ],
            "type": "histogram2dcontour"
           }
          ],
          "mesh3d": [
           {
            "colorbar": {
             "outlinewidth": 0,
             "ticks": ""
            },
            "type": "mesh3d"
           }
          ],
          "parcoords": [
           {
            "line": {
             "colorbar": {
              "outlinewidth": 0,
              "ticks": ""
             }
            },
            "type": "parcoords"
           }
          ],
          "pie": [
           {
            "automargin": true,
            "type": "pie"
           }
          ],
          "scatter": [
           {
            "fillpattern": {
             "fillmode": "overlay",
             "size": 10,
             "solidity": 0.2
            },
            "type": "scatter"
           }
          ],
          "scatter3d": [
           {
            "line": {
             "colorbar": {
              "outlinewidth": 0,
              "ticks": ""
             }
            },
            "marker": {
             "colorbar": {
              "outlinewidth": 0,
              "ticks": ""
             }
            },
            "type": "scatter3d"
           }
          ],
          "scattercarpet": [
           {
            "marker": {
             "colorbar": {
              "outlinewidth": 0,
              "ticks": ""
             }
            },
            "type": "scattercarpet"
           }
          ],
          "scattergeo": [
           {
            "marker": {
             "colorbar": {
              "outlinewidth": 0,
              "ticks": ""
             }
            },
            "type": "scattergeo"
           }
          ],
          "scattergl": [
           {
            "marker": {
             "colorbar": {
              "outlinewidth": 0,
              "ticks": ""
             }
            },
            "type": "scattergl"
           }
          ],
          "scattermapbox": [
           {
            "marker": {
             "colorbar": {
              "outlinewidth": 0,
              "ticks": ""
             }
            },
            "type": "scattermapbox"
           }
          ],
          "scatterpolar": [
           {
            "marker": {
             "colorbar": {
              "outlinewidth": 0,
              "ticks": ""
             }
            },
            "type": "scatterpolar"
           }
          ],
          "scatterpolargl": [
           {
            "marker": {
             "colorbar": {
              "outlinewidth": 0,
              "ticks": ""
             }
            },
            "type": "scatterpolargl"
           }
          ],
          "scatterternary": [
           {
            "marker": {
             "colorbar": {
              "outlinewidth": 0,
              "ticks": ""
             }
            },
            "type": "scatterternary"
           }
          ],
          "surface": [
           {
            "colorbar": {
             "outlinewidth": 0,
             "ticks": ""
            },
            "colorscale": [
             [
              0,
              "#0d0887"
             ],
             [
              0.1111111111111111,
              "#46039f"
             ],
             [
              0.2222222222222222,
              "#7201a8"
             ],
             [
              0.3333333333333333,
              "#9c179e"
             ],
             [
              0.4444444444444444,
              "#bd3786"
             ],
             [
              0.5555555555555556,
              "#d8576b"
             ],
             [
              0.6666666666666666,
              "#ed7953"
             ],
             [
              0.7777777777777778,
              "#fb9f3a"
             ],
             [
              0.8888888888888888,
              "#fdca26"
             ],
             [
              1,
              "#f0f921"
             ]
            ],
            "type": "surface"
           }
          ],
          "table": [
           {
            "cells": {
             "fill": {
              "color": "#EBF0F8"
             },
             "line": {
              "color": "white"
             }
            },
            "header": {
             "fill": {
              "color": "#C8D4E3"
             },
             "line": {
              "color": "white"
             }
            },
            "type": "table"
           }
          ]
         },
         "layout": {
          "annotationdefaults": {
           "arrowcolor": "#2a3f5f",
           "arrowhead": 0,
           "arrowwidth": 1
          },
          "autotypenumbers": "strict",
          "coloraxis": {
           "colorbar": {
            "outlinewidth": 0,
            "ticks": ""
           }
          },
          "colorscale": {
           "diverging": [
            [
             0,
             "#8e0152"
            ],
            [
             0.1,
             "#c51b7d"
            ],
            [
             0.2,
             "#de77ae"
            ],
            [
             0.3,
             "#f1b6da"
            ],
            [
             0.4,
             "#fde0ef"
            ],
            [
             0.5,
             "#f7f7f7"
            ],
            [
             0.6,
             "#e6f5d0"
            ],
            [
             0.7,
             "#b8e186"
            ],
            [
             0.8,
             "#7fbc41"
            ],
            [
             0.9,
             "#4d9221"
            ],
            [
             1,
             "#276419"
            ]
           ],
           "sequential": [
            [
             0,
             "#0d0887"
            ],
            [
             0.1111111111111111,
             "#46039f"
            ],
            [
             0.2222222222222222,
             "#7201a8"
            ],
            [
             0.3333333333333333,
             "#9c179e"
            ],
            [
             0.4444444444444444,
             "#bd3786"
            ],
            [
             0.5555555555555556,
             "#d8576b"
            ],
            [
             0.6666666666666666,
             "#ed7953"
            ],
            [
             0.7777777777777778,
             "#fb9f3a"
            ],
            [
             0.8888888888888888,
             "#fdca26"
            ],
            [
             1,
             "#f0f921"
            ]
           ],
           "sequentialminus": [
            [
             0,
             "#0d0887"
            ],
            [
             0.1111111111111111,
             "#46039f"
            ],
            [
             0.2222222222222222,
             "#7201a8"
            ],
            [
             0.3333333333333333,
             "#9c179e"
            ],
            [
             0.4444444444444444,
             "#bd3786"
            ],
            [
             0.5555555555555556,
             "#d8576b"
            ],
            [
             0.6666666666666666,
             "#ed7953"
            ],
            [
             0.7777777777777778,
             "#fb9f3a"
            ],
            [
             0.8888888888888888,
             "#fdca26"
            ],
            [
             1,
             "#f0f921"
            ]
           ]
          },
          "colorway": [
           "#636efa",
           "#EF553B",
           "#00cc96",
           "#ab63fa",
           "#FFA15A",
           "#19d3f3",
           "#FF6692",
           "#B6E880",
           "#FF97FF",
           "#FECB52"
          ],
          "font": {
           "color": "#2a3f5f"
          },
          "geo": {
           "bgcolor": "white",
           "lakecolor": "white",
           "landcolor": "#E5ECF6",
           "showlakes": true,
           "showland": true,
           "subunitcolor": "white"
          },
          "hoverlabel": {
           "align": "left"
          },
          "hovermode": "closest",
          "mapbox": {
           "style": "light"
          },
          "paper_bgcolor": "white",
          "plot_bgcolor": "#E5ECF6",
          "polar": {
           "angularaxis": {
            "gridcolor": "white",
            "linecolor": "white",
            "ticks": ""
           },
           "bgcolor": "#E5ECF6",
           "radialaxis": {
            "gridcolor": "white",
            "linecolor": "white",
            "ticks": ""
           }
          },
          "scene": {
           "xaxis": {
            "backgroundcolor": "#E5ECF6",
            "gridcolor": "white",
            "gridwidth": 2,
            "linecolor": "white",
            "showbackground": true,
            "ticks": "",
            "zerolinecolor": "white"
           },
           "yaxis": {
            "backgroundcolor": "#E5ECF6",
            "gridcolor": "white",
            "gridwidth": 2,
            "linecolor": "white",
            "showbackground": true,
            "ticks": "",
            "zerolinecolor": "white"
           },
           "zaxis": {
            "backgroundcolor": "#E5ECF6",
            "gridcolor": "white",
            "gridwidth": 2,
            "linecolor": "white",
            "showbackground": true,
            "ticks": "",
            "zerolinecolor": "white"
           }
          },
          "shapedefaults": {
           "line": {
            "color": "#2a3f5f"
           }
          },
          "ternary": {
           "aaxis": {
            "gridcolor": "white",
            "linecolor": "white",
            "ticks": ""
           },
           "baxis": {
            "gridcolor": "white",
            "linecolor": "white",
            "ticks": ""
           },
           "bgcolor": "#E5ECF6",
           "caxis": {
            "gridcolor": "white",
            "linecolor": "white",
            "ticks": ""
           }
          },
          "title": {
           "x": 0.05
          },
          "xaxis": {
           "automargin": true,
           "gridcolor": "white",
           "linecolor": "white",
           "ticks": "",
           "title": {
            "standoff": 15
           },
           "zerolinecolor": "white",
           "zerolinewidth": 2
          },
          "yaxis": {
           "automargin": true,
           "gridcolor": "white",
           "linecolor": "white",
           "ticks": "",
           "title": {
            "standoff": 15
           },
           "zerolinecolor": "white",
           "zerolinewidth": 2
          }
         }
        },
        "title": {
         "text": "Votos por Partido"
        },
        "xaxis": {
         "anchor": "y",
         "domain": [
          0,
          1
         ],
         "title": {
          "text": "x"
         }
        },
        "yaxis": {
         "anchor": "x",
         "domain": [
          0,
          1
         ],
         "title": {
          "text": "y"
         }
        }
       }
      }
     },
     "metadata": {},
     "output_type": "display_data"
    }
   ],
   "source": [
    "dep_votes = df_complete.groupby(\"SG_PARTIDO\").sum()[\"QT_VOTOS_NOMINAIS_VALIDOS\"].sort_values()\n",
    "px.bar(x=dep_votes.values,y=dep_votes.index, title=\"Votos por Partido\", height=1000)"
   ]
  },
  {
   "cell_type": "code",
   "execution_count": 115,
   "metadata": {},
   "outputs": [
    {
     "ename": "AttributeError",
     "evalue": "'SeriesGroupBy' object has no attribute 'str'",
     "output_type": "error",
     "traceback": [
      "\u001b[0;31m---------------------------------------------------------------------------\u001b[0m",
      "\u001b[0;31mAttributeError\u001b[0m                            Traceback (most recent call last)",
      "Cell \u001b[0;32mIn[115], line 2\u001b[0m\n\u001b[1;32m      1\u001b[0m dep_ELECTED \u001b[38;5;241m=\u001b[39m df_complete\u001b[38;5;241m.\u001b[39mgroupby(\u001b[38;5;124m\"\u001b[39m\u001b[38;5;124mSG_PARTIDO\u001b[39m\u001b[38;5;124m\"\u001b[39m)\n\u001b[0;32m----> 2\u001b[0m dep_ELECTED \u001b[38;5;241m=\u001b[39m \u001b[43mdep_ELECTED\u001b[49m\u001b[43m[\u001b[49m\u001b[38;5;124;43m\"\u001b[39;49m\u001b[38;5;124;43mDS_SIT_TOT_TURNO_y\u001b[39;49m\u001b[38;5;124;43m\"\u001b[39;49m\u001b[43m]\u001b[49m\u001b[38;5;241;43m.\u001b[39;49m\u001b[43mstr\u001b[49m\u001b[38;5;241m.\u001b[39mcontains(\u001b[38;5;124mr\u001b[39m\u001b[38;5;124m\"\u001b[39m\u001b[38;5;124mELEITO .*\u001b[39m\u001b[38;5;124m\"\u001b[39m)\n\u001b[1;32m      3\u001b[0m display(dep_ELECTED)\n",
      "File \u001b[0;32m~/.local/lib/python3.10/site-packages/pandas/core/groupby/groupby.py:1308\u001b[0m, in \u001b[0;36mGroupBy.__getattr__\u001b[0;34m(self, attr)\u001b[0m\n\u001b[1;32m   1305\u001b[0m \u001b[38;5;28;01mif\u001b[39;00m attr \u001b[38;5;129;01min\u001b[39;00m \u001b[38;5;28mself\u001b[39m\u001b[38;5;241m.\u001b[39mobj:\n\u001b[1;32m   1306\u001b[0m     \u001b[38;5;28;01mreturn\u001b[39;00m \u001b[38;5;28mself\u001b[39m[attr]\n\u001b[0;32m-> 1308\u001b[0m \u001b[38;5;28;01mraise\u001b[39;00m \u001b[38;5;167;01mAttributeError\u001b[39;00m(\n\u001b[1;32m   1309\u001b[0m     \u001b[38;5;124mf\u001b[39m\u001b[38;5;124m\"\u001b[39m\u001b[38;5;124m'\u001b[39m\u001b[38;5;132;01m{\u001b[39;00m\u001b[38;5;28mtype\u001b[39m(\u001b[38;5;28mself\u001b[39m)\u001b[38;5;241m.\u001b[39m\u001b[38;5;18m__name__\u001b[39m\u001b[38;5;132;01m}\u001b[39;00m\u001b[38;5;124m'\u001b[39m\u001b[38;5;124m object has no attribute \u001b[39m\u001b[38;5;124m'\u001b[39m\u001b[38;5;132;01m{\u001b[39;00mattr\u001b[38;5;132;01m}\u001b[39;00m\u001b[38;5;124m'\u001b[39m\u001b[38;5;124m\"\u001b[39m\n\u001b[1;32m   1310\u001b[0m )\n",
      "\u001b[0;31mAttributeError\u001b[0m: 'SeriesGroupBy' object has no attribute 'str'"
     ]
    }
   ],
   "source": [
    "dep_ELECTED = df_complete.groupby(\"SG_PARTIDO\")\n",
    "display(dep_ELECTED)"
   ]
  },
  {
   "cell_type": "code",
   "execution_count": 105,
   "metadata": {},
   "outputs": [
    {
     "data": {
      "application/vnd.plotly.v1+json": {
       "config": {
        "plotlyServerURL": "https://plot.ly"
       },
       "data": [
        {
         "alignmentgroup": "True",
         "hovertemplate": "nation=South Korea<br>medal=%{x}<br>count=%{y}<extra></extra>",
         "legendgroup": "South Korea",
         "marker": {
          "color": "#636efa",
          "pattern": {
           "shape": "."
          }
         },
         "name": "South Korea",
         "offsetgroup": "South Korea",
         "orientation": "v",
         "showlegend": true,
         "textposition": "auto",
         "type": "bar",
         "x": [
          "gold",
          "silver",
          "bronze"
         ],
         "xaxis": "x",
         "y": [
          24,
          13,
          11
         ],
         "yaxis": "y"
        },
        {
         "alignmentgroup": "True",
         "hovertemplate": "nation=China<br>medal=%{x}<br>count=%{y}<extra></extra>",
         "legendgroup": "China",
         "marker": {
          "color": "#EF553B",
          "pattern": {
           "shape": "x"
          }
         },
         "name": "China",
         "offsetgroup": "China",
         "orientation": "v",
         "showlegend": true,
         "textposition": "auto",
         "type": "bar",
         "x": [
          "gold",
          "silver",
          "bronze"
         ],
         "xaxis": "x",
         "y": [
          10,
          15,
          8
         ],
         "yaxis": "y"
        },
        {
         "alignmentgroup": "True",
         "hovertemplate": "nation=Canada<br>medal=%{x}<br>count=%{y}<extra></extra>",
         "legendgroup": "Canada",
         "marker": {
          "color": "#00cc96",
          "pattern": {
           "shape": "+"
          }
         },
         "name": "Canada",
         "offsetgroup": "Canada",
         "orientation": "v",
         "showlegend": true,
         "textposition": "auto",
         "type": "bar",
         "x": [
          "gold",
          "silver",
          "bronze"
         ],
         "xaxis": "x",
         "y": [
          9,
          12,
          12
         ],
         "yaxis": "y"
        }
       ],
       "layout": {
        "barmode": "relative",
        "legend": {
         "title": {
          "text": "nation"
         },
         "tracegroupgap": 0
        },
        "margin": {
         "t": 60
        },
        "template": {
         "data": {
          "bar": [
           {
            "error_x": {
             "color": "#2a3f5f"
            },
            "error_y": {
             "color": "#2a3f5f"
            },
            "marker": {
             "line": {
              "color": "#E5ECF6",
              "width": 0.5
             },
             "pattern": {
              "fillmode": "overlay",
              "size": 10,
              "solidity": 0.2
             }
            },
            "type": "bar"
           }
          ],
          "barpolar": [
           {
            "marker": {
             "line": {
              "color": "#E5ECF6",
              "width": 0.5
             },
             "pattern": {
              "fillmode": "overlay",
              "size": 10,
              "solidity": 0.2
             }
            },
            "type": "barpolar"
           }
          ],
          "carpet": [
           {
            "aaxis": {
             "endlinecolor": "#2a3f5f",
             "gridcolor": "white",
             "linecolor": "white",
             "minorgridcolor": "white",
             "startlinecolor": "#2a3f5f"
            },
            "baxis": {
             "endlinecolor": "#2a3f5f",
             "gridcolor": "white",
             "linecolor": "white",
             "minorgridcolor": "white",
             "startlinecolor": "#2a3f5f"
            },
            "type": "carpet"
           }
          ],
          "choropleth": [
           {
            "colorbar": {
             "outlinewidth": 0,
             "ticks": ""
            },
            "type": "choropleth"
           }
          ],
          "contour": [
           {
            "colorbar": {
             "outlinewidth": 0,
             "ticks": ""
            },
            "colorscale": [
             [
              0,
              "#0d0887"
             ],
             [
              0.1111111111111111,
              "#46039f"
             ],
             [
              0.2222222222222222,
              "#7201a8"
             ],
             [
              0.3333333333333333,
              "#9c179e"
             ],
             [
              0.4444444444444444,
              "#bd3786"
             ],
             [
              0.5555555555555556,
              "#d8576b"
             ],
             [
              0.6666666666666666,
              "#ed7953"
             ],
             [
              0.7777777777777778,
              "#fb9f3a"
             ],
             [
              0.8888888888888888,
              "#fdca26"
             ],
             [
              1,
              "#f0f921"
             ]
            ],
            "type": "contour"
           }
          ],
          "contourcarpet": [
           {
            "colorbar": {
             "outlinewidth": 0,
             "ticks": ""
            },
            "type": "contourcarpet"
           }
          ],
          "heatmap": [
           {
            "colorbar": {
             "outlinewidth": 0,
             "ticks": ""
            },
            "colorscale": [
             [
              0,
              "#0d0887"
             ],
             [
              0.1111111111111111,
              "#46039f"
             ],
             [
              0.2222222222222222,
              "#7201a8"
             ],
             [
              0.3333333333333333,
              "#9c179e"
             ],
             [
              0.4444444444444444,
              "#bd3786"
             ],
             [
              0.5555555555555556,
              "#d8576b"
             ],
             [
              0.6666666666666666,
              "#ed7953"
             ],
             [
              0.7777777777777778,
              "#fb9f3a"
             ],
             [
              0.8888888888888888,
              "#fdca26"
             ],
             [
              1,
              "#f0f921"
             ]
            ],
            "type": "heatmap"
           }
          ],
          "heatmapgl": [
           {
            "colorbar": {
             "outlinewidth": 0,
             "ticks": ""
            },
            "colorscale": [
             [
              0,
              "#0d0887"
             ],
             [
              0.1111111111111111,
              "#46039f"
             ],
             [
              0.2222222222222222,
              "#7201a8"
             ],
             [
              0.3333333333333333,
              "#9c179e"
             ],
             [
              0.4444444444444444,
              "#bd3786"
             ],
             [
              0.5555555555555556,
              "#d8576b"
             ],
             [
              0.6666666666666666,
              "#ed7953"
             ],
             [
              0.7777777777777778,
              "#fb9f3a"
             ],
             [
              0.8888888888888888,
              "#fdca26"
             ],
             [
              1,
              "#f0f921"
             ]
            ],
            "type": "heatmapgl"
           }
          ],
          "histogram": [
           {
            "marker": {
             "pattern": {
              "fillmode": "overlay",
              "size": 10,
              "solidity": 0.2
             }
            },
            "type": "histogram"
           }
          ],
          "histogram2d": [
           {
            "colorbar": {
             "outlinewidth": 0,
             "ticks": ""
            },
            "colorscale": [
             [
              0,
              "#0d0887"
             ],
             [
              0.1111111111111111,
              "#46039f"
             ],
             [
              0.2222222222222222,
              "#7201a8"
             ],
             [
              0.3333333333333333,
              "#9c179e"
             ],
             [
              0.4444444444444444,
              "#bd3786"
             ],
             [
              0.5555555555555556,
              "#d8576b"
             ],
             [
              0.6666666666666666,
              "#ed7953"
             ],
             [
              0.7777777777777778,
              "#fb9f3a"
             ],
             [
              0.8888888888888888,
              "#fdca26"
             ],
             [
              1,
              "#f0f921"
             ]
            ],
            "type": "histogram2d"
           }
          ],
          "histogram2dcontour": [
           {
            "colorbar": {
             "outlinewidth": 0,
             "ticks": ""
            },
            "colorscale": [
             [
              0,
              "#0d0887"
             ],
             [
              0.1111111111111111,
              "#46039f"
             ],
             [
              0.2222222222222222,
              "#7201a8"
             ],
             [
              0.3333333333333333,
              "#9c179e"
             ],
             [
              0.4444444444444444,
              "#bd3786"
             ],
             [
              0.5555555555555556,
              "#d8576b"
             ],
             [
              0.6666666666666666,
              "#ed7953"
             ],
             [
              0.7777777777777778,
              "#fb9f3a"
             ],
             [
              0.8888888888888888,
              "#fdca26"
             ],
             [
              1,
              "#f0f921"
             ]
            ],
            "type": "histogram2dcontour"
           }
          ],
          "mesh3d": [
           {
            "colorbar": {
             "outlinewidth": 0,
             "ticks": ""
            },
            "type": "mesh3d"
           }
          ],
          "parcoords": [
           {
            "line": {
             "colorbar": {
              "outlinewidth": 0,
              "ticks": ""
             }
            },
            "type": "parcoords"
           }
          ],
          "pie": [
           {
            "automargin": true,
            "type": "pie"
           }
          ],
          "scatter": [
           {
            "fillpattern": {
             "fillmode": "overlay",
             "size": 10,
             "solidity": 0.2
            },
            "type": "scatter"
           }
          ],
          "scatter3d": [
           {
            "line": {
             "colorbar": {
              "outlinewidth": 0,
              "ticks": ""
             }
            },
            "marker": {
             "colorbar": {
              "outlinewidth": 0,
              "ticks": ""
             }
            },
            "type": "scatter3d"
           }
          ],
          "scattercarpet": [
           {
            "marker": {
             "colorbar": {
              "outlinewidth": 0,
              "ticks": ""
             }
            },
            "type": "scattercarpet"
           }
          ],
          "scattergeo": [
           {
            "marker": {
             "colorbar": {
              "outlinewidth": 0,
              "ticks": ""
             }
            },
            "type": "scattergeo"
           }
          ],
          "scattergl": [
           {
            "marker": {
             "colorbar": {
              "outlinewidth": 0,
              "ticks": ""
             }
            },
            "type": "scattergl"
           }
          ],
          "scattermapbox": [
           {
            "marker": {
             "colorbar": {
              "outlinewidth": 0,
              "ticks": ""
             }
            },
            "type": "scattermapbox"
           }
          ],
          "scatterpolar": [
           {
            "marker": {
             "colorbar": {
              "outlinewidth": 0,
              "ticks": ""
             }
            },
            "type": "scatterpolar"
           }
          ],
          "scatterpolargl": [
           {
            "marker": {
             "colorbar": {
              "outlinewidth": 0,
              "ticks": ""
             }
            },
            "type": "scatterpolargl"
           }
          ],
          "scatterternary": [
           {
            "marker": {
             "colorbar": {
              "outlinewidth": 0,
              "ticks": ""
             }
            },
            "type": "scatterternary"
           }
          ],
          "surface": [
           {
            "colorbar": {
             "outlinewidth": 0,
             "ticks": ""
            },
            "colorscale": [
             [
              0,
              "#0d0887"
             ],
             [
              0.1111111111111111,
              "#46039f"
             ],
             [
              0.2222222222222222,
              "#7201a8"
             ],
             [
              0.3333333333333333,
              "#9c179e"
             ],
             [
              0.4444444444444444,
              "#bd3786"
             ],
             [
              0.5555555555555556,
              "#d8576b"
             ],
             [
              0.6666666666666666,
              "#ed7953"
             ],
             [
              0.7777777777777778,
              "#fb9f3a"
             ],
             [
              0.8888888888888888,
              "#fdca26"
             ],
             [
              1,
              "#f0f921"
             ]
            ],
            "type": "surface"
           }
          ],
          "table": [
           {
            "cells": {
             "fill": {
              "color": "#EBF0F8"
             },
             "line": {
              "color": "white"
             }
            },
            "header": {
             "fill": {
              "color": "#C8D4E3"
             },
             "line": {
              "color": "white"
             }
            },
            "type": "table"
           }
          ]
         },
         "layout": {
          "annotationdefaults": {
           "arrowcolor": "#2a3f5f",
           "arrowhead": 0,
           "arrowwidth": 1
          },
          "autotypenumbers": "strict",
          "coloraxis": {
           "colorbar": {
            "outlinewidth": 0,
            "ticks": ""
           }
          },
          "colorscale": {
           "diverging": [
            [
             0,
             "#8e0152"
            ],
            [
             0.1,
             "#c51b7d"
            ],
            [
             0.2,
             "#de77ae"
            ],
            [
             0.3,
             "#f1b6da"
            ],
            [
             0.4,
             "#fde0ef"
            ],
            [
             0.5,
             "#f7f7f7"
            ],
            [
             0.6,
             "#e6f5d0"
            ],
            [
             0.7,
             "#b8e186"
            ],
            [
             0.8,
             "#7fbc41"
            ],
            [
             0.9,
             "#4d9221"
            ],
            [
             1,
             "#276419"
            ]
           ],
           "sequential": [
            [
             0,
             "#0d0887"
            ],
            [
             0.1111111111111111,
             "#46039f"
            ],
            [
             0.2222222222222222,
             "#7201a8"
            ],
            [
             0.3333333333333333,
             "#9c179e"
            ],
            [
             0.4444444444444444,
             "#bd3786"
            ],
            [
             0.5555555555555556,
             "#d8576b"
            ],
            [
             0.6666666666666666,
             "#ed7953"
            ],
            [
             0.7777777777777778,
             "#fb9f3a"
            ],
            [
             0.8888888888888888,
             "#fdca26"
            ],
            [
             1,
             "#f0f921"
            ]
           ],
           "sequentialminus": [
            [
             0,
             "#0d0887"
            ],
            [
             0.1111111111111111,
             "#46039f"
            ],
            [
             0.2222222222222222,
             "#7201a8"
            ],
            [
             0.3333333333333333,
             "#9c179e"
            ],
            [
             0.4444444444444444,
             "#bd3786"
            ],
            [
             0.5555555555555556,
             "#d8576b"
            ],
            [
             0.6666666666666666,
             "#ed7953"
            ],
            [
             0.7777777777777778,
             "#fb9f3a"
            ],
            [
             0.8888888888888888,
             "#fdca26"
            ],
            [
             1,
             "#f0f921"
            ]
           ]
          },
          "colorway": [
           "#636efa",
           "#EF553B",
           "#00cc96",
           "#ab63fa",
           "#FFA15A",
           "#19d3f3",
           "#FF6692",
           "#B6E880",
           "#FF97FF",
           "#FECB52"
          ],
          "font": {
           "color": "#2a3f5f"
          },
          "geo": {
           "bgcolor": "white",
           "lakecolor": "white",
           "landcolor": "#E5ECF6",
           "showlakes": true,
           "showland": true,
           "subunitcolor": "white"
          },
          "hoverlabel": {
           "align": "left"
          },
          "hovermode": "closest",
          "mapbox": {
           "style": "light"
          },
          "paper_bgcolor": "white",
          "plot_bgcolor": "#E5ECF6",
          "polar": {
           "angularaxis": {
            "gridcolor": "white",
            "linecolor": "white",
            "ticks": ""
           },
           "bgcolor": "#E5ECF6",
           "radialaxis": {
            "gridcolor": "white",
            "linecolor": "white",
            "ticks": ""
           }
          },
          "scene": {
           "xaxis": {
            "backgroundcolor": "#E5ECF6",
            "gridcolor": "white",
            "gridwidth": 2,
            "linecolor": "white",
            "showbackground": true,
            "ticks": "",
            "zerolinecolor": "white"
           },
           "yaxis": {
            "backgroundcolor": "#E5ECF6",
            "gridcolor": "white",
            "gridwidth": 2,
            "linecolor": "white",
            "showbackground": true,
            "ticks": "",
            "zerolinecolor": "white"
           },
           "zaxis": {
            "backgroundcolor": "#E5ECF6",
            "gridcolor": "white",
            "gridwidth": 2,
            "linecolor": "white",
            "showbackground": true,
            "ticks": "",
            "zerolinecolor": "white"
           }
          },
          "shapedefaults": {
           "line": {
            "color": "#2a3f5f"
           }
          },
          "ternary": {
           "aaxis": {
            "gridcolor": "white",
            "linecolor": "white",
            "ticks": ""
           },
           "baxis": {
            "gridcolor": "white",
            "linecolor": "white",
            "ticks": ""
           },
           "bgcolor": "#E5ECF6",
           "caxis": {
            "gridcolor": "white",
            "linecolor": "white",
            "ticks": ""
           }
          },
          "title": {
           "x": 0.05
          },
          "xaxis": {
           "automargin": true,
           "gridcolor": "white",
           "linecolor": "white",
           "ticks": "",
           "title": {
            "standoff": 15
           },
           "zerolinecolor": "white",
           "zerolinewidth": 2
          },
          "yaxis": {
           "automargin": true,
           "gridcolor": "white",
           "linecolor": "white",
           "ticks": "",
           "title": {
            "standoff": 15
           },
           "zerolinecolor": "white",
           "zerolinewidth": 2
          }
         }
        },
        "xaxis": {
         "anchor": "y",
         "domain": [
          0,
          1
         ],
         "title": {
          "text": "medal"
         }
        },
        "yaxis": {
         "anchor": "x",
         "domain": [
          0,
          1
         ],
         "title": {
          "text": "count"
         }
        }
       }
      }
     },
     "metadata": {},
     "output_type": "display_data"
    },
    {
     "data": {
      "text/html": [
       "<div>\n",
       "<style scoped>\n",
       "    .dataframe tbody tr th:only-of-type {\n",
       "        vertical-align: middle;\n",
       "    }\n",
       "\n",
       "    .dataframe tbody tr th {\n",
       "        vertical-align: top;\n",
       "    }\n",
       "\n",
       "    .dataframe thead th {\n",
       "        text-align: right;\n",
       "    }\n",
       "</style>\n",
       "<table border=\"1\" class=\"dataframe\">\n",
       "  <thead>\n",
       "    <tr style=\"text-align: right;\">\n",
       "      <th></th>\n",
       "      <th>nation</th>\n",
       "      <th>medal</th>\n",
       "      <th>count</th>\n",
       "    </tr>\n",
       "  </thead>\n",
       "  <tbody>\n",
       "    <tr>\n",
       "      <th>0</th>\n",
       "      <td>South Korea</td>\n",
       "      <td>gold</td>\n",
       "      <td>24</td>\n",
       "    </tr>\n",
       "    <tr>\n",
       "      <th>1</th>\n",
       "      <td>China</td>\n",
       "      <td>gold</td>\n",
       "      <td>10</td>\n",
       "    </tr>\n",
       "    <tr>\n",
       "      <th>2</th>\n",
       "      <td>Canada</td>\n",
       "      <td>gold</td>\n",
       "      <td>9</td>\n",
       "    </tr>\n",
       "    <tr>\n",
       "      <th>3</th>\n",
       "      <td>South Korea</td>\n",
       "      <td>silver</td>\n",
       "      <td>13</td>\n",
       "    </tr>\n",
       "    <tr>\n",
       "      <th>4</th>\n",
       "      <td>China</td>\n",
       "      <td>silver</td>\n",
       "      <td>15</td>\n",
       "    </tr>\n",
       "    <tr>\n",
       "      <th>5</th>\n",
       "      <td>Canada</td>\n",
       "      <td>silver</td>\n",
       "      <td>12</td>\n",
       "    </tr>\n",
       "    <tr>\n",
       "      <th>6</th>\n",
       "      <td>South Korea</td>\n",
       "      <td>bronze</td>\n",
       "      <td>11</td>\n",
       "    </tr>\n",
       "    <tr>\n",
       "      <th>7</th>\n",
       "      <td>China</td>\n",
       "      <td>bronze</td>\n",
       "      <td>8</td>\n",
       "    </tr>\n",
       "    <tr>\n",
       "      <th>8</th>\n",
       "      <td>Canada</td>\n",
       "      <td>bronze</td>\n",
       "      <td>12</td>\n",
       "    </tr>\n",
       "  </tbody>\n",
       "</table>\n",
       "</div>"
      ],
      "text/plain": [
       "        nation   medal  count\n",
       "0  South Korea    gold     24\n",
       "1        China    gold     10\n",
       "2       Canada    gold      9\n",
       "3  South Korea  silver     13\n",
       "4        China  silver     15\n",
       "5       Canada  silver     12\n",
       "6  South Korea  bronze     11\n",
       "7        China  bronze      8\n",
       "8       Canada  bronze     12"
      ]
     },
     "execution_count": 105,
     "metadata": {},
     "output_type": "execute_result"
    }
   ],
   "source": [
    "df = px.data.medals_long()\n",
    "\n",
    "fig = px.bar(df, x=\"medal\", y=\"count\", color=\"nation\",\n",
    "             pattern_shape=\"nation\", pattern_shape_sequence=[\".\", \"x\", \"+\"])\n",
    "fig.show()\n",
    "df"
   ]
  }
 ],
 "metadata": {
  "kernelspec": {
   "display_name": "venv",
   "language": "python",
   "name": "python3"
  },
  "language_info": {
   "codemirror_mode": {
    "name": "ipython",
    "version": 3
   },
   "file_extension": ".py",
   "mimetype": "text/x-python",
   "name": "python",
   "nbconvert_exporter": "python",
   "pygments_lexer": "ipython3",
   "version": "3.10.12"
  }
 },
 "nbformat": 4,
 "nbformat_minor": 2
}
